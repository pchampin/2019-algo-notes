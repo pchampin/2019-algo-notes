{
 "cells": [
  {
   "cell_type": "code",
   "execution_count": 1,
   "metadata": {},
   "outputs": [],
   "source": [
    "def fact(n: int) -> int:\n",
    "    \"\"\"\n",
    "    :pré-cond: n ≥ 0\n",
    "    :post-cond: retourne n! (factorielle de n)\n",
    "    \"\"\"\n",
    "    r = 1        # 1   passage\n",
    "    i = 2        # 1   passage\n",
    "    while i<=n:  # n+1 passages\n",
    "        r = r*i  # n   passages\n",
    "        i = i+1  # n   passages\n",
    "    return r     # 1   passage"
   ]
  },
  {
   "cell_type": "markdown",
   "metadata": {},
   "source": [
    "Trace pour `fact(1)`\n",
    "```\n",
    "l6  n=1 i=? r=?\n",
    "l8  n=1 i=1 r=1\n",
    "l8  n=1 i=2 r=1\n",
    "l11 n=1 i=2 r=1 → retourne 1\n",
    "```\n",
    "\n",
    "Trace pour `fact(5)`\n",
    "```\n",
    "l6  n=5 i=? r=?\n",
    "l8  n=5 i=1 r=1\n",
    "l8  n=5 i=2 r=1\n",
    "l8  n=5 i=3 r=2\n",
    "l8  n=5 i=4 r=6\n",
    "l8  n=5 i=5 r=24\n",
    "l8  n=5 i=6 r=120\n",
    "l11 n=5 i=6 r=120 → retourne 120\n",
    "```\n",
    "\n",
    "La trace aura toujours exactement $n+3$ lignes.\n",
    "\n",
    "Si on traçait *toutes* les lignes de code,\n",
    "la trace aurait toujours exactement $3n+4$ lignes.\n",
    "\n",
    "Ce qui nous intéresse n'est pas le nombre de lignes exact,\n",
    "mais **la manière dont il est influencé** par les paramètres d'entrées."
   ]
  },
  {
   "cell_type": "markdown",
   "metadata": {},
   "source": [
    "## Notation \"grand O\"\n",
    "\n",
    "On dit qu'une fonction $f(x)$ est bornée par une fonction $g(x)$, noté\n",
    "\n",
    "$$f(x) = O(g(x))$$\n",
    "\n",
    "lorsque\n",
    "\n",
    "$$\\exists x_0>0 ,\\; \\exists k>0 ,\\; \\forall x>x_0 \\; f(x) ≤ k.g(x)$$"
   ]
  },
  {
   "cell_type": "code",
   "execution_count": 2,
   "metadata": {},
   "outputs": [],
   "source": [
    "def valeur_absolue(x: float) -> float:\n",
    "    \"\"\"\n",
    "    :post-cond: retourne la valeur absolue de x\n",
    "    \"\"\"\n",
    "    if x < 0:\n",
    "        x = -x\n",
    "    return x"
   ]
  },
  {
   "cell_type": "markdown",
   "metadata": {},
   "source": [
    "La complexité mesure l'influence des paramètres d'entrée sur le temps d'exécution.\n",
    "\n",
    "* La fonction `factorielle` a une complexité en $O(n)$ (linéaire).\n",
    "* La fonction `valeur_absolue` a une complexité en $O(1)$ (constante, donc du paramètre d'entrée)."
   ]
  },
  {
   "cell_type": "code",
   "execution_count": 3,
   "metadata": {},
   "outputs": [],
   "source": [
    "def premier(n: int) -> bool:\n",
    "    p = True # est premier\n",
    "    d = 2    # diviseur candidat\n",
    "    while p and d*d<=n:\n",
    "        if n%d==0:\n",
    "            p = False\n",
    "        d = d+1\n",
    "    return p"
   ]
  },
  {
   "cell_type": "markdown",
   "metadata": {},
   "source": [
    "La fonction `premier` a une complexité en $O(\\sqrt n)$."
   ]
  },
  {
   "cell_type": "code",
   "execution_count": 4,
   "metadata": {},
   "outputs": [],
   "source": [
    "def puissance(x: float, p: int) -> float:\n",
    "    \"\"\"\n",
    "    :pré-cond: p≥0\n",
    "    :post-cond: retourne x à la puissance p\n",
    "    \"\"\"\n",
    "    r = 1.0\n",
    "    i = 0\n",
    "    while i < p:\n",
    "        r = r*x\n",
    "        i = i+1\n",
    "    return r"
   ]
  },
  {
   "cell_type": "markdown",
   "metadata": {},
   "source": [
    "La fonction `puissance` a une complexité en $O(p)$ (linéaire en $p$, indépendante de $x$)."
   ]
  },
  {
   "cell_type": "code",
   "execution_count": 5,
   "metadata": {},
   "outputs": [],
   "source": [
    "def somme_chiffres(n: int) -> int:\n",
    "    \"\"\"\n",
    "    :pré-cond: n>0\n",
    "    :post-cond: retourne la somme des chiffres (en base 10) de n\n",
    "    \"\"\"\n",
    "    r = 0\n",
    "    while n > 0:\n",
    "        r = r + n%10\n",
    "        n = n//10\n",
    "    return r"
   ]
  },
  {
   "cell_type": "markdown",
   "metadata": {},
   "source": [
    "La fonction `somme_chiffres` a une complexité en $O(\\log n)$ (logarithmique).\n",
    "\n",
    "NB: la base du logarithme n'a pas d'importance, tous les logarithmes sont égaux à un facteur multiplicatif près."
   ]
  },
  {
   "cell_type": "code",
   "execution_count": 6,
   "metadata": {},
   "outputs": [],
   "source": [
    "def puissance_bis(x: float, p: int) -> float:\n",
    "    \"\"\"\n",
    "    :pré-cond: p≥0\n",
    "    :post-cond: retourne x puissance p\n",
    "    \"\"\"\n",
    "    r = 1.0\n",
    "    z = x\n",
    "    while p > 0:\n",
    "        if p%2 == 1:\n",
    "            r = r*z\n",
    "        z = z*z\n",
    "        p = p//2\n",
    "    return r"
   ]
  },
  {
   "cell_type": "markdown",
   "metadata": {},
   "source": [
    "Trace de `puissance_bis(2.0, 3)`\n",
    "```\n",
    "l.6  x=2.0  p=3  r=?    z=?\n",
    "l.8  x=2.0  p=3  r=1.0  z=2.0\n",
    "l.8  x=2.0  p=1  r=2.0  z=4.0\n",
    "l.8  x=2.0  p=0  r=8.0  z=16.0\n",
    "l.13 x=2.0  p=0  r=8.0  z=16.0 → return 8.0\n",
    "```\n",
    "Trace de `puissance_bis(2.0, 5)`\n",
    "```\n",
    "l.6  x=2.0  p=5  r=?    z=?\n",
    "l.8  x=2.0  p=5  r=1.0  z=2.0\n",
    "l.8  x=2.0  p=2  r=2.0  z=4.0\n",
    "l.8  x=2.0  p=1  r=2.0  z=16.0\n",
    "l.8  x=2.0  p=0  r=32.0 z=256.0\n",
    "l.13 x=2.0  p=0  r=32.0 z=256.0 → return 32.0\n",
    "```\n",
    "Trace de `puissance_bis(2.0, 8)`\n",
    "```\n",
    "l.6  x=2.0  p=8  r=?     z=?\n",
    "l.8  x=2.0  p=8  r=1.0   z=2.0\n",
    "l.8  x=2.0  p=4  r=1.0   z=4.0\n",
    "l.8  x=2.0  p=2  r=1.0   z=16.0\n",
    "l.8  x=2.0  p=1  r=1.0   z=256.0\n",
    "l.8  x=2.0  p=0  r=256.0 z=256^2\n",
    "l.13 x=2.0  p=0  r=256.0  z=256^2 → return 256.0\n",
    "```\n",
    "            \n",
    "La fonction `puissance_bis` a une complexité en $O(\\log p)$."
   ]
  },
  {
   "cell_type": "code",
   "execution_count": 7,
   "metadata": {},
   "outputs": [
    {
     "name": "stdout",
     "output_type": "stream",
     "text": [
      "1.0715086071862673e+301\n",
      "1.0715086071862673e+301\n"
     ]
    }
   ],
   "source": [
    "# Illustration de la différence de rapidité entre 'mystère' et 'puissance'\n",
    "\n",
    "for i in range(100_000): # on répère 100000 fois la ligne suivante\n",
    "    x = puissance_bis(2.0, 1000)\n",
    "print(x)\n",
    "\n",
    "for i in range(100_000): # on répère 100000 fois la ligne suivante\n",
    "    x = puissance(2.0, 1000)\n",
    "print(x)"
   ]
  }
 ],
 "metadata": {
  "kernelspec": {
   "display_name": "Python 3",
   "language": "python",
   "name": "python3"
  },
  "language_info": {
   "codemirror_mode": {
    "name": "ipython",
    "version": 3
   },
   "file_extension": ".py",
   "mimetype": "text/x-python",
   "name": "python",
   "nbconvert_exporter": "python",
   "pygments_lexer": "ipython3",
   "version": "3.7.3"
  }
 },
 "nbformat": 4,
 "nbformat_minor": 2
}
