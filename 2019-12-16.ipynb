{
 "cells": [
  {
   "cell_type": "code",
   "execution_count": 1,
   "metadata": {},
   "outputs": [],
   "source": [
    "from numpy import *"
   ]
  },
  {
   "cell_type": "markdown",
   "metadata": {},
   "source": [
    "# Tri par insertion"
   ]
  },
  {
   "cell_type": "code",
   "execution_count": 2,
   "metadata": {},
   "outputs": [
    {
     "name": "stdout",
     "output_type": "stream",
     "text": [
      "[1. 2. 3. 3. 4. 5. 6. 7.]\n"
     ]
    }
   ],
   "source": [
    "def insère_dernier(a: [float]):\n",
    "    \"\"\"\n",
    "    :e/s a: [float]\n",
    "    :pré-cond: a est trié jusqu'à l'avant dernière case\n",
    "    :post-cond: a est trié intégralement\n",
    "    \"\"\"\n",
    "    i = len(a)-1\n",
    "    while i>0 and a[i-1]>a[i]:\n",
    "        a[i],a[i-1] = a[i-1],a[i]\n",
    "        i = i-1\n",
    "\n",
    "# version récursive\n",
    "def insère_dernier(a: [float]):\n",
    "    if len(a)<2 or a[len(a)-2]<=a[len(a)-1]:\n",
    "        pass\n",
    "    else:\n",
    "        a[len(a)-1],a[len(a)-2] = a[len(a)-2],a[len(a)-1]\n",
    "        insère_dernier(a[:len(a)-1])\n",
    "        \n",
    "def tri(a: [float]):\n",
    "    i = 2\n",
    "    while i<=len(a):\n",
    "        insère_dernier(a[:i])\n",
    "        i = i+1\n",
    "\n",
    "a = array([2.0, 1, 3, 5, 7, 6, 4, 3])\n",
    "tri(a)\n",
    "print(a)"
   ]
  },
  {
   "cell_type": "markdown",
   "metadata": {},
   "source": [
    "Complexité dans le pire des cas $O(n^2)$ (tableau en ordre inverse)\n",
    "\n",
    "Complexité dans le meilleur des cas $O(n)$ (tableau déjà trié)"
   ]
  },
  {
   "cell_type": "markdown",
   "metadata": {},
   "source": [
    "# Tri binaire (*Quick sort*)"
   ]
  },
  {
   "cell_type": "code",
   "execution_count": 3,
   "metadata": {},
   "outputs": [
    {
     "name": "stdout",
     "output_type": "stream",
     "text": [
      "[1. 2. 3. 3. 4. 5. 6. 7.]\n"
     ]
    }
   ],
   "source": [
    "def partitionne(pivot: float, a: [float]) -> int:\n",
    "    \"\"\"\n",
    "    :entrée pivot: float\n",
    "    :e/s a: [float]\n",
    "    :sortie ipivot: int\n",
    "    :pré-cond: len(a)>0\n",
    "    :post-cond: le tableau est ré-ordonné avec\n",
    "        - toutes les valeurs ≤ pivot à gauche\n",
    "        - toutes les valeurs> pivot à droite\n",
    "        - ipivot est l'indice de la dernière valeur ≤ pivot\n",
    "          (éventuellement -1 si toutes les valeurs sont > pivot)\n",
    "    \"\"\"\n",
    "    ig = 0\n",
    "    id = len(a)-1\n",
    "    while ig<=id:\n",
    "        while ig<len(a) and a[ig]<=pivot:\n",
    "            ig = ig+1\n",
    "        while id>=0 and a[id]>pivot:\n",
    "            id = id-1\n",
    "        if ig<id:\n",
    "            a[ig],a[id]=a[id],a[ig]\n",
    "    return id\n",
    "\n",
    "def tri(a: [float]):\n",
    "    if len(a)<2:\n",
    "        pass\n",
    "    else:\n",
    "        ip = partitionne(a[0], a[1:]) + 1\n",
    "        a[0],a[ip] = a[ip],a[0]\n",
    "        tri(a[:ip])\n",
    "        tri(a[ip+1:])\n",
    "\n",
    "a = array([2.0, 1, 3, 5, 7, 6, 4, 3])\n",
    "tri(a)\n",
    "print(a)"
   ]
  },
  {
   "cell_type": "markdown",
   "metadata": {},
   "source": [
    "Complexité dans le pire des cas $O(n^2)$ (choix d'un pivot extrème à chaque étape)\n",
    "\n",
    "Complexité dans le meilleur des cas $O(n.log(n))$"
   ]
  }
 ],
 "metadata": {
  "kernelspec": {
   "display_name": "Python 3",
   "language": "python",
   "name": "python3"
  },
  "language_info": {
   "codemirror_mode": {
    "name": "ipython",
    "version": 3
   },
   "file_extension": ".py",
   "mimetype": "text/x-python",
   "name": "python",
   "nbconvert_exporter": "python",
   "pygments_lexer": "ipython3",
   "version": "3.7.5"
  }
 },
 "nbformat": 4,
 "nbformat_minor": 2
}
