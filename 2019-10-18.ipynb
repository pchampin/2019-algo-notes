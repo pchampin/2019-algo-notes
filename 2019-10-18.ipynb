{
 "cells": [
  {
   "cell_type": "code",
   "execution_count": 1,
   "metadata": {},
   "outputs": [
    {
     "name": "stdout",
     "output_type": "stream",
     "text": [
      "n ? 113\n",
      "True\n"
     ]
    }
   ],
   "source": [
    "\"\"\"\n",
    ":entrée n: int\n",
    ":pré-cond: n > 0\n",
    ":sortie premier: bool\n",
    ":post-cond: 'premier' vaut True si et seulement si n est premier\n",
    "\"\"\"\n",
    "n = int(input(\"n ? \"))\n",
    "\n",
    "if n == 1:\n",
    "    premier = False\n",
    "else:\n",
    "    premier = True\n",
    "    i = 2\n",
    "    while i < n:\n",
    "        if n%i == 0:\n",
    "            premier = False\n",
    "        i = i+1\n",
    "print(premier)\n",
    "\n",
    "# trace pour n = 125, n = 13, n = 1"
   ]
  },
  {
   "cell_type": "code",
   "execution_count": 2,
   "metadata": {},
   "outputs": [
    {
     "name": "stdout",
     "output_type": "stream",
     "text": [
      "n ? 113\n",
      "True\n"
     ]
    }
   ],
   "source": [
    "\"\"\"\n",
    ":entrée n: int\n",
    ":pré-cond: n > 0\n",
    ":sortie premier: bool\n",
    ":post-cond: 'premier' vaut True si et seulement si n est premier\n",
    "\"\"\"\n",
    "n = int(input(\"n ? \"))\n",
    "\n",
    "premier = n!=1\n",
    "i = 2\n",
    "while i < n and premier:\n",
    "    if n%i == 0:\n",
    "        premier = False\n",
    "    i = i+1\n",
    "print(premier)\n"
   ]
  },
  {
   "cell_type": "code",
   "execution_count": 3,
   "metadata": {},
   "outputs": [
    {
     "name": "stdout",
     "output_type": "stream",
     "text": [
      "n ? 113\n",
      "True\n"
     ]
    }
   ],
   "source": [
    "\"\"\"\n",
    ":entrée n: int\n",
    ":pré-cond: n > 0\n",
    ":sortie premier: bool\n",
    ":post-cond: 'premier' vaut True si et seulement si n est premier\n",
    "\"\"\"\n",
    "n = int(input(\"n ? \"))\n",
    "\n",
    "premier = n!=1\n",
    "i = 2\n",
    "while i*i <= n and premier:\n",
    "    if n%i == 0:\n",
    "        premier = False\n",
    "    i = i+1\n",
    "print(premier)\n"
   ]
  },
  {
   "cell_type": "code",
   "execution_count": 4,
   "metadata": {},
   "outputs": [
    {
     "name": "stdout",
     "output_type": "stream",
     "text": [
      "max ?100000\n",
      "9592\n"
     ]
    }
   ],
   "source": [
    "\"\"\"\n",
    ":entrée max: int\n",
    ":pré-cond: max > 0\n",
    ":sortie nb_premiers: int\n",
    ":post-cond: 'nb_premier' est le nombre de nombres premiers entre 1 et max\n",
    "\"\"\"\n",
    "max = int(input(\"max ?\"))\n",
    "\n",
    "nb_premiers = 0\n",
    "n = 2\n",
    "while n <= max:\n",
    "    premier = n!=1\n",
    "    i = 2\n",
    "    while i*i <= n and premier:\n",
    "        if n%i == 0:\n",
    "            premier = False\n",
    "        i = i+1\n",
    "    if premier:\n",
    "        nb_premiers = nb_premiers+1\n",
    "    n = n+1\n",
    "\n",
    "print(nb_premiers)"
   ]
  },
  {
   "cell_type": "code",
   "execution_count": 5,
   "metadata": {},
   "outputs": [
    {
     "name": "stdout",
     "output_type": "stream",
     "text": [
      "max ?100000\n",
      "9592\n"
     ]
    }
   ],
   "source": [
    "def est_premier(n: int) -> bool:\n",
    "    \"\"\"\n",
    "    :pré-cond: n > 0\n",
    "    :post-cond: retourne True si et seulement si n est premier\n",
    "    \"\"\"\n",
    "    premier = n!=1\n",
    "    i = 2\n",
    "    while i*i <= n and premier:\n",
    "        if n%i == 0:\n",
    "            premier = False\n",
    "        i = i+1\n",
    "    return premier\n",
    "\n",
    "\n",
    "\"\"\"\n",
    ":entrée max: int\n",
    ":pré-cond: max > 0\n",
    ":sortie nb_premiers: int\n",
    ":post-cond: 'nb_premier' est le nombre de nombres premiers entre 1 et max\n",
    "\"\"\"\n",
    "max = int(input(\"max ?\"))\n",
    "\n",
    "nb_premiers = 0\n",
    "i = 2\n",
    "while i <= max:\n",
    "    if est_premier(i):\n",
    "        nb_premiers = nb_premiers+1\n",
    "    i = i+1\n",
    "\n",
    "print(nb_premiers)"
   ]
  },
  {
   "cell_type": "markdown",
   "metadata": {},
   "source": [
    "# Fonctions usuelles"
   ]
  },
  {
   "cell_type": "code",
   "execution_count": 6,
   "metadata": {},
   "outputs": [
    {
     "name": "stdout",
     "output_type": "stream",
     "text": [
      "test\n"
     ]
    }
   ],
   "source": [
    "# fonction int\n",
    "\"\"\"\n",
    ":entrée txt: str PASSÉ EN PARAMÈTRE\n",
    ":pré-cond: txt ne contient que des chiffres (et commence éventuellement par '-')\n",
    ":sortie: int RETOURNÉ\n",
    ":post-cont: retourne l'entier dont txt est la représentation en base 10\n",
    "\"\"\"\n",
    "\n",
    "# fonction divmod\n",
    "\"\"\"\n",
    ":entrée n: int PASSÉ EN PARAMÈTRE\n",
    ":entrée d: int PASSÉ EN PARAMÈTRE\n",
    ":pré-cond: d≠0\n",
    ":sortie q: int RETOURNÉ\n",
    ":sortie r: int RETOURNÉ\n",
    ":post-cont: q est le quotient de la division de n par d\n",
    "            r est le quotient de la division de n par d\n",
    "\"\"\"\n",
    "\n",
    "# fonction input\n",
    "\"\"\"\n",
    ":entrée msg: str PASSÉ EN PARAMÈTRE\n",
    ":entrée txt: str TAPÉ AU CLAVIER\n",
    ":pré-cond: ø\n",
    ":sortie txt2: str RETOURNÉ\n",
    ":post-cont: txt = txt2\n",
    "\"\"\"\n",
    "\n",
    "# fonction print\n",
    "\"\"\"\n",
    ":entrée val: (n'importe quel type) PASSÉ EN PARAMÈTRE\n",
    ":pré-cond: ø\n",
    ":sortie txt: str AFFICHÉ À L'ÉCRAN\n",
    ":post-cont: txt est la représentation textuelle de val \n",
    "\"\"\"\n",
    "\n",
    "print(\"test\")"
   ]
  },
  {
   "cell_type": "markdown",
   "metadata": {},
   "source": [
    "NB: la seule sortie de `print` est affchée à l'écran,\n",
    "donc `print` ne retourne rien.\n",
    "C'est une fonction un peu particulière,\n",
    "qu'on appelle [procédure](https://perso.liris.cnrs.fr/pierre-antoine.champin/enseignement/algo/cours/algo/instructions.html#term-procedure)."
   ]
  }
 ],
 "metadata": {
  "kernelspec": {
   "display_name": "Python 3",
   "language": "python",
   "name": "python3"
  },
  "language_info": {
   "codemirror_mode": {
    "name": "ipython",
    "version": 3
   },
   "file_extension": ".py",
   "mimetype": "text/x-python",
   "name": "python",
   "nbconvert_exporter": "python",
   "pygments_lexer": "ipython3",
   "version": "3.7.3"
  }
 },
 "nbformat": 4,
 "nbformat_minor": 2
}
