{
 "cells": [
  {
   "cell_type": "markdown",
   "metadata": {},
   "source": [
    "## Opérations sur les entiers"
   ]
  },
  {
   "cell_type": "code",
   "execution_count": 2,
   "metadata": {},
   "outputs": [
    {
     "name": "stdout",
     "output_type": "stream",
     "text": [
      "3 -1 12 3 1\n"
     ]
    }
   ],
   "source": [
    "somme = 1+2\n",
    "différence = 1-2\n",
    "produit = 4*3\n",
    "quotient, reste = divmod(10,3)\n",
    "quotient2 = 10//3\n",
    "reste2 = 10%3\n",
    "\n",
    "print(somme, différence, produit, quotient, reste)"
   ]
  },
  {
   "cell_type": "markdown",
   "metadata": {},
   "source": [
    "## Opérations sur les flottants"
   ]
  },
  {
   "cell_type": "code",
   "execution_count": 3,
   "metadata": {},
   "outputs": [
    {
     "name": "stdout",
     "output_type": "stream",
     "text": [
      "4.0 -1.0 4.5 4.0 3.3333333333333335 5.0\n"
     ]
    }
   ],
   "source": [
    "somme = 1.5 + 2.5\n",
    "différence = 1.5 - 2.5\n",
    "produit = 1.5 * 3\n",
    "quotient_flottant = 10/2.5\n",
    "quotient_flottant2 = 10/3\n",
    "quotient_flottant3 = 10/2\n",
    "\n",
    "print(somme, différence, produit, quotient_flottant,\n",
    "      quotient_flottant2, quotient_flottant3)"
   ]
  },
  {
   "cell_type": "markdown",
   "metadata": {},
   "source": [
    "Attention, les flottants font des erreurs d'approximation, *même* avec des nombres décimaux \"justes\"."
   ]
  },
  {
   "cell_type": "code",
   "execution_count": 44,
   "metadata": {},
   "outputs": [
    {
     "name": "stdout",
     "output_type": "stream",
     "text": [
      "0.30000000000000004\n"
     ]
    }
   ],
   "source": [
    "print(0.1+0.2)"
   ]
  },
  {
   "cell_type": "markdown",
   "metadata": {},
   "source": [
    "## Opératons sur les chaînes"
   ]
  },
  {
   "cell_type": "code",
   "execution_count": 19,
   "metadata": {},
   "outputs": [
    {
     "name": "stdout",
     "output_type": "stream",
     "text": [
      "hello world 2+2\n",
      "2+2hello world\n"
     ]
    }
   ],
   "source": [
    "texte1 = \"hello world\"\n",
    "texte2 = \"2+2\"\n",
    "concaténation = texte2+texte1\n",
    "\n",
    "print(texte1, texte2)\n",
    "print(concaténation)"
   ]
  },
  {
   "cell_type": "markdown",
   "metadata": {},
   "source": [
    "**Attention** à l'opérateur +, qui a un sens différent en fonction de ses opérandes."
   ]
  },
  {
   "cell_type": "markdown",
   "metadata": {},
   "source": [
    "## Structures de contrôle\n",
    "\n",
    "### Séquence"
   ]
  },
  {
   "cell_type": "code",
   "execution_count": 45,
   "metadata": {},
   "outputs": [
    {
     "name": "stdout",
     "output_type": "stream",
     "text": [
      "a ? 7\n",
      "0.6\n"
     ]
    }
   ],
   "source": [
    "a = int(input(\"a ? \"))\n",
    "a = a//2\n",
    "a = a/5\n",
    "print(a)"
   ]
  },
  {
   "cell_type": "markdown",
   "metadata": {},
   "source": [
    "### Condition"
   ]
  },
  {
   "cell_type": "code",
   "execution_count": null,
   "metadata": {},
   "outputs": [],
   "source": [
    "num_secu = int(input())\n",
    "i = num_secu // 1000000000000\n",
    "if i == 1:\n",
    "    r = \"Monsieur\"\n",
    "else:\n",
    "    if i == 2:\n",
    "        r = \"Madame\"\n",
    "    else:\n",
    "        r = \"Numéro non valide\"\"\n",
    "print(r)"
   ]
  },
  {
   "cell_type": "markdown",
   "metadata": {},
   "source": [
    "### Boucle"
   ]
  },
  {
   "cell_type": "code",
   "execution_count": null,
   "metadata": {},
   "outputs": [],
   "source": [
    "n = int(input())\n",
    "while n > 0:\n",
    "    print(n)\n",
    "    n = n-1\n",
    "print(\"boum\")"
   ]
  },
  {
   "cell_type": "markdown",
   "metadata": {},
   "source": [
    "## Corrections des exercices"
   ]
  },
  {
   "cell_type": "code",
   "execution_count": null,
   "metadata": {},
   "outputs": [],
   "source": [
    "# 1.6\n",
    "\"\"\"\n",
    ":entrée: float\n",
    ":pré-cond: ø\n",
    ":sortie: float\n",
    ":post-cond: la sortie est la valeur absolue de l'entrée\n",
    "\"\"\"\n",
    "x = float(input())\n",
    "if x < 0:\n",
    "    x = -x\n",
    "print(x)"
   ]
  },
  {
   "cell_type": "code",
   "execution_count": null,
   "metadata": {},
   "outputs": [],
   "source": [
    "# 1.7\n",
    "\"\"\"\n",
    ":entrée: int num_secu\n",
    ":pré-cond: 1000000000000 ≤ num_secu < 3000000000000\n",
    ":sortie: str\n",
    ":post-cond: affiche le sexe de la personne dont le n° de SS est num_secu\n",
    "\"\"\"\n",
    "\n",
    "num_secu = int(input())\n",
    "i = num_secu // 1000000000000\n",
    "if i == 1:\n",
    "    r = \"Monsieur\"\n",
    "else:   # dans ce cas, i == 2\n",
    "    r = \"Madame\"\n",
    "print(r)"
   ]
  },
  {
   "cell_type": "code",
   "execution_count": null,
   "metadata": {},
   "outputs": [],
   "source": [
    "# 1.8\n",
    "\"\"\"\n",
    ":entrée: float a\n",
    ":entrée: float b\n",
    ":entrée: float c\n",
    ":pré-cond: ø\n",
    ":sortie: float\n",
    ":post-cond: affiche le max de {a,b,c}\n",
    "\"\"\"\n",
    "\n",
    "a = float(input())\n",
    "b = float(input())\n",
    "c = float(input())\n",
    "if a < b:\n",
    "    if b < c:\n",
    "        r = c\n",
    "    else:\n",
    "        r = b\n",
    "else:\n",
    "    if a < c:\n",
    "        r = c\n",
    "    else:\n",
    "        r = a\n",
    "print(r)"
   ]
  },
  {
   "cell_type": "code",
   "execution_count": 34,
   "metadata": {},
   "outputs": [
    {
     "name": "stdout",
     "output_type": "stream",
     "text": [
      "1\n",
      "2\n",
      "3\n",
      "3.0\n"
     ]
    }
   ],
   "source": [
    "# 1.9\n",
    "\"\"\"\n",
    ":entrée: float a\n",
    ":entrée: float b\n",
    ":entrée: float c\n",
    ":pré-cond: ø\n",
    ":sortie: float\n",
    ":post-cond: affiche le max de {a,b,c}\n",
    "\"\"\"\n",
    "\n",
    "a = float(input())\n",
    "b = float(input())\n",
    "c = float(input())\n",
    "r = a\n",
    "if b > r:\n",
    "    r = b\n",
    "if c > r:\n",
    "    r = c\n",
    "print(r)"
   ]
  },
  {
   "cell_type": "code",
   "execution_count": 40,
   "metadata": {},
   "outputs": [
    {
     "name": "stdout",
     "output_type": "stream",
     "text": [
      "\n",
      "1000000\n",
      "\n"
     ]
    }
   ],
   "source": [
    "# 1.10\n",
    "\"\"\"\n",
    ":entrée: str c\n",
    ":entrée: int n\n",
    ":pré-cond: n≥0\n",
    ":sortie: str\n",
    ":post-cond: affiche la chaîne c répétée n fois\n",
    "\"\"\"\n",
    "\n",
    "c = str(input())\n",
    "n = int(input())\n",
    "r = \"\"\n",
    "i = 0\n",
    "while i < n:\n",
    "    r = r+c\n",
    "    i = i+1\n",
    "print(r)"
   ]
  },
  {
   "cell_type": "code",
   "execution_count": 43,
   "metadata": {},
   "outputs": [
    {
     "name": "stdout",
     "output_type": "stream",
     "text": [
      "3\n",
      "3\n",
      "27.0\n"
     ]
    }
   ],
   "source": [
    "#1.11\n",
    "\"\"\"\n",
    ":entrée: float x\n",
    ":entrée: int p\n",
    ":pré-cond: p > 0\n",
    ":sortie: float\n",
    ":post-cond: affiche x puissance p\n",
    "\"\"\"\n",
    "\n",
    "x = float(input())\n",
    "p = int(input())\n",
    "r = 1  #  correction (au lieu de x)\n",
    "while p > 0:\n",
    "    r = r*x\n",
    "    p = p-1\n",
    "print(r)"
   ]
  }
 ],
 "metadata": {
  "kernelspec": {
   "display_name": "Python 3",
   "language": "python",
   "name": "python3"
  },
  "language_info": {
   "codemirror_mode": {
    "name": "ipython",
    "version": 3
   },
   "file_extension": ".py",
   "mimetype": "text/x-python",
   "name": "python",
   "nbconvert_exporter": "python",
   "pygments_lexer": "ipython3",
   "version": "3.7.3"
  }
 },
 "nbformat": 4,
 "nbformat_minor": 2
}
