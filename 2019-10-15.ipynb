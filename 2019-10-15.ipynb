{
 "cells": [
  {
   "cell_type": "markdown",
   "metadata": {},
   "source": [
    "# Trace d'exécution\n",
    "\n",
    "On prend une \"photo\" de l'état des variables\n",
    "* en entrant dans la première ligne (après les `input`),\n",
    "* à chaque fois qu'on entre dans une ligne avec un `while`,\n",
    "* en sortant de l'algorithme\n",
    "\n",
    "Objectifs:\n",
    "* pouvoir analyser une exécution de l'algorithme,\n",
    "* comprendre ce qu'il fait,\n",
    "* comprendre pourquoi il marche ou ne marche pas,\n",
    "* évaluer l'impact des entrées sur le temps d'exécution (complexité, nous en reparlerons plus tard)."
   ]
  },
  {
   "cell_type": "code",
   "execution_count": 2,
   "metadata": {},
   "outputs": [
    {
     "name": "stdout",
     "output_type": "stream",
     "text": [
      "valeur de n ? 363\n",
      "3\n",
      "11\n",
      "11\n"
     ]
    }
   ],
   "source": [
    "\"\"\"\n",
    ":entrée n: int\n",
    ":pré-cond: n > 0\n",
    ":sortie: séquence d'entier\n",
    ":post-cond: ?\n",
    "\"\"\"\n",
    "n = int(input(\"valeur de n ? \"))\n",
    "i = 2\n",
    "while n > 1:\n",
    "    while n%i == 0:\n",
    "        print(i)\n",
    "        n = n//i\n",
    "    i = i+1\n"
   ]
  },
  {
   "cell_type": "markdown",
   "metadata": {},
   "source": [
    "Si l'utilisateur saisi 6\n",
    "```txt\n",
    "* l.8  n=6, i=?\n",
    "* l.9  n=6, i=2 (on rentre dans la boucle)\n",
    "* l.10 n=6, i=2 (on rentre dans la boucle)\n",
    "* l.10 n=3, i=2 (on sort de la boucle)\n",
    "* l.9  n=3, i=3 (on rentre dans la boucle)\n",
    "* l.10 n=3, i=3 (on rentre dans la boucle)\n",
    "* l.10 n=1, i=3 (on sort de la boucle)\n",
    "* l.9  n=1, i=4 (on sort de la boucle)\n",
    "* l.14 n=1, i=4\n",
    "```\n",
    "Le programme a affiché 2, puis 3."
   ]
  },
  {
   "cell_type": "markdown",
   "metadata": {},
   "source": [
    "Si l'utilisateur saisi 24\n",
    "```txt\n",
    "* l.8  n=24, i=?\n",
    "* l.9  n=24, i=2 (on rentre dans la boucle)\n",
    "* l.10 n=24, i=2 (on rentre dans la boucle)\n",
    "* l.10 n=12, i=2 (on rentre dans la boucle)\n",
    "* l.10 n=6,  i=2 (on rentre dans la boucle)\n",
    "* l.10 n=3,  i=2 (on sort de la boucle)\n",
    "* l.9  n=3,  i=3 (on rentre dans la boucle)\n",
    "* l.10 n=3,  i=3 (on rentre dans la boucle)\n",
    "* l.10 n=1,  i=3 (on sort de la boucle)\n",
    "* l.9  n=1,  i=4 (on sort de la boucle)\n",
    "* l.14 n=1,  i=4\n",
    "```\n",
    "Le programme a affiché 2, 2, 2, 3."
   ]
  },
  {
   "cell_type": "markdown",
   "metadata": {},
   "source": [
    "Si l'utilisateur saisi 33\n",
    "```\n",
    "* l.8  n=33, i=?\n",
    "* l.9  n=33, i=2  (on rentre dans la boucle)\n",
    "* l.10 n=33, i=2  (on sort de la boucle)\n",
    "* l.9  n=33, i=3  (on rentre dans la boucle)\n",
    "* l.10 n=33, i=3  (on rentre dans la boucle)\n",
    "* l.10 n=11, i=3  (on sort de la boucle)\n",
    "* l.9  n=11, i=4  (on rentre dans la boucle)\n",
    "* l.10 n=11, i=4  (on sort de la boucle)\n",
    "* l.9  n=11, i=5  (on rentre dans la boucle)\n",
    "* l.10 n=11, i=5  (on sort de la boucle)\n",
    "* l.9  n=11, i=6  (on rentre dans la boucle)\n",
    "* l.10 n=11, i=6  (on sort de la boucle)\n",
    "* l.9  n=11, i=7  (on rentre dans la boucle)\n",
    "* l.10 n=11, i=7  (on sort de la boucle)\n",
    "* l.9  n=11, i=8  (on rentre dans la boucle)\n",
    "* l.10 n=11, i=8  (on sort de la boucle)\n",
    "* l.9  n=11, i=9  (on rentre dans la boucle)\n",
    "* l.10 n=11, i=9  (on sort de la boucle)\n",
    "* l.9  n=11, i=10 (on rentre dans la boucle)\n",
    "* l.10 n=11, i=10 (on sort de la boucle)\n",
    "* l.9  n=11, i=11 (on rentre dans la boucle)\n",
    "* l.10 n=11, i=11 (on rentre dans la boucle)\n",
    "* l.10 n=1,  i=11 (on sort de la boucle)\n",
    "* l.9  n=1,  i=11 (on sort de la boucle)\n",
    "* l.14 n=1,  i=11\n",
    "```\n",
    "Le programme a affiché 3, 11"
   ]
  },
  {
   "cell_type": "code",
   "execution_count": 4,
   "metadata": {},
   "outputs": [
    {
     "name": "stdout",
     "output_type": "stream",
     "text": [
      "n ? 1\n",
      "True\n"
     ]
    }
   ],
   "source": [
    "\"\"\"\n",
    ":entrée n: int\n",
    ":pré-cond: n > 0\n",
    ":sortie premier: bool\n",
    ":post-cond: 'premier' vaut True si et seulement si n est premier\n",
    "\"\"\"\n",
    "n = int(input(\"n ? \"))\n",
    "premier = True\n",
    "i = 2\n",
    "while i < n:\n",
    "    if n%i == 0:\n",
    "        premier = False\n",
    "    i = i+1\n",
    "print(premier)\n",
    "\n",
    "# /!\\ pas correct pour n = 1\n",
    "\n",
    "# trace pour n = 125, n = 13, n = 1"
   ]
  }
 ],
 "metadata": {
  "kernelspec": {
   "display_name": "Python 3",
   "language": "python",
   "name": "python3"
  },
  "language_info": {
   "codemirror_mode": {
    "name": "ipython",
    "version": 3
   },
   "file_extension": ".py",
   "mimetype": "text/x-python",
   "name": "python",
   "nbconvert_exporter": "python",
   "pygments_lexer": "ipython3",
   "version": "3.7.3"
  }
 },
 "nbformat": 4,
 "nbformat_minor": 2
}
