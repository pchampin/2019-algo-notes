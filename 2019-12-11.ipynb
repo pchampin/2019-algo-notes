{
 "cells": [
  {
   "cell_type": "markdown",
   "metadata": {},
   "source": [
    "## *Tranches* sur les tableaux"
   ]
  },
  {
   "cell_type": "code",
   "execution_count": 1,
   "metadata": {},
   "outputs": [],
   "source": [
    "from numpy import *"
   ]
  },
  {
   "cell_type": "code",
   "execution_count": 2,
   "metadata": {},
   "outputs": [
    {
     "name": "stdout",
     "output_type": "stream",
     "text": [
      "[ 2.  4.  6.  8. 10. 12. 14. 16. 18.]\n",
      "8.0\n"
     ]
    }
   ],
   "source": [
    "a = array([2.0, 4, 6, 8, 10, 12, 14, 16, 18])\n",
    "print(a)\n",
    "print(a[3])"
   ]
  },
  {
   "cell_type": "code",
   "execution_count": 3,
   "metadata": {},
   "outputs": [
    {
     "name": "stdout",
     "output_type": "stream",
     "text": [
      "[ 8. 10. 12. 14.]\n",
      "[ 8. 10. 12. 14. 16. 18.]\n",
      "[ 2.  4.  6.  8. 10. 12. 14.]\n"
     ]
    }
   ],
   "source": [
    "print(a[3:7])\n",
    "print(a[3:])\n",
    "print(a[:7])"
   ]
  },
  {
   "cell_type": "code",
   "execution_count": 4,
   "metadata": {},
   "outputs": [
    {
     "name": "stdout",
     "output_type": "stream",
     "text": [
      "4\n",
      "14.0\n",
      "[ 8. 10. 12. 14.]\n"
     ]
    }
   ],
   "source": [
    "b = a[3:7]\n",
    "print(len(b))\n",
    "print(b[3])\n",
    "print(b)"
   ]
  },
  {
   "cell_type": "markdown",
   "metadata": {},
   "source": [
    "NB: en Python, la plupart des éléments qui supportent la notation `[i]` supportent également la notation `[i:j]` (chaînes, listes, tuples...).\n",
    "\n",
    "### *Tranches* et mutabilité\n",
    "\n",
    "Ce qui suit, en revanche, n'est valable **que** pour les tableaux.\n",
    "\n",
    "Une modification sur une tranche d'un tableau se répercute sur le tableau global."
   ]
  },
  {
   "cell_type": "code",
   "execution_count": 5,
   "metadata": {},
   "outputs": [
    {
     "name": "stdout",
     "output_type": "stream",
     "text": [
      "[ 2.  4.  6. 42. 10. 12. 14. 16. 18.]\n"
     ]
    }
   ],
   "source": [
    "b[0] = 42\n",
    "print(a)"
   ]
  },
  {
   "cell_type": "markdown",
   "metadata": {},
   "source": [
    "## Fonctions récursives sur les tableaux"
   ]
  },
  {
   "cell_type": "code",
   "execution_count": 6,
   "metadata": {},
   "outputs": [],
   "source": [
    "def somme(a: [float]) -> float:\n",
    "    \"\"\"\n",
    "    :pré-cond: ø\n",
    "    :post-cond: retourne la somme des éléments de a\n",
    "    \"\"\"\n",
    "    if len(a) == 0:\n",
    "        s = 0\n",
    "    else:\n",
    "        s = a[0] + somme(a[1:])\n",
    "    return s"
   ]
  },
  {
   "cell_type": "code",
   "execution_count": 7,
   "metadata": {},
   "outputs": [],
   "source": [
    "# récursion en retirant la première case\n",
    "def indice_min(a: [float]) -> int:\n",
    "    \"\"\"\n",
    "    :pré-cond: len(a)>0\n",
    "    :post-cond: retourne imin tq. a[imin]≤a[i] pour tout i dans [0;len(a)[\n",
    "    \"\"\"\n",
    "    if len(a) == 1:\n",
    "        imin = 0\n",
    "    else:\n",
    "        imin = indice_min(a[1:])+1\n",
    "        if a[0] < a[imin]:\n",
    "            imin = 0\n",
    "    return imin\n",
    "\n",
    "# récursion en retirant la dernière case\n",
    "def indice_min(a: [float]) -> int:\n",
    "    \"\"\"\n",
    "    :pré-cond: len(a)>0\n",
    "    :post-cond: retourne imin tq. a[imin]≤a[i] pour tout i dans [0;len(a)[\n",
    "    \"\"\"\n",
    "    if len(a) == 1:\n",
    "        imin = 0\n",
    "    else:\n",
    "        maxi = len(a)-1\n",
    "        imin = indice_min(a[:maxi])\n",
    "        if a[maxi] < a[imin]:\n",
    "            imin = maxi\n",
    "    return imin"
   ]
  },
  {
   "cell_type": "code",
   "execution_count": 8,
   "metadata": {},
   "outputs": [],
   "source": [
    "def inverse(a: [float]):\n",
    "    \"\"\"\n",
    "    :e/s a: [float]\n",
    "    :pré-cond: ø\n",
    "    :post-cond: pour tout i dans [0;len(a)[ aₑ[i]=aₛ[len(a)-1-i]\n",
    "    \"\"\"\n",
    "    if len(a)<2:\n",
    "        pass\n",
    "    else:\n",
    "        tmp = a[0]\n",
    "        a[0] = a[len(a)-1]\n",
    "        a[len(a)-1] = tmp\n",
    "        inverse(a[1:len(a)-1])"
   ]
  },
  {
   "cell_type": "markdown",
   "metadata": {},
   "source": [
    "## Tri par sélection"
   ]
  },
  {
   "cell_type": "code",
   "execution_count": 9,
   "metadata": {},
   "outputs": [
    {
     "name": "stdout",
     "output_type": "stream",
     "text": [
      "[2 3 4 5 6 7 8 9]\n"
     ]
    }
   ],
   "source": [
    "# version récursive\n",
    "\n",
    "def tri_sélection(a: [float]):\n",
    "    \"\"\"\n",
    "    :e/s a: [float]\n",
    "    :pré-cond: ø\n",
    "    :post-cond: a_s est la version triée par ordre croissant de a_e\n",
    "    \"\"\"\n",
    "    if len(a)<2:\n",
    "        pass\n",
    "    else:\n",
    "        imax = indice_max(a)\n",
    "        a[imax],a[len(a)-1] = a[len(a)-1],a[imax]\n",
    "        tri_sélection(a[:len(a)-1])\n",
    "        \n",
    "# version itérative\n",
    "\n",
    "def tri_sélection(a: [float]):\n",
    "    \"\"\"\n",
    "    :e/s a: [float]\n",
    "    :pré-cond: ø\n",
    "    :post-cond: a_s est la version triée par ordre croissant de a_e\n",
    "    \"\"\"\n",
    "    i = len(a) # nombre de case restant à trier\n",
    "    while i>1:\n",
    "        imax = indice_max(a[:i])\n",
    "        a[imax],a[i-1] = a[i-1],a[imax]\n",
    "        i = i-1\n",
    "        \n",
    "def indice_max(a: [float]) -> int:\n",
    "    \"\"\"\n",
    "    :pré-cond: len(a)>0\n",
    "    :post-cond: retourne imax tq. a[imax]≥a[i] pour tout i\n",
    "    \"\"\"\n",
    "    imax = 0\n",
    "    for i in range(1, len(a)):\n",
    "        if a[i] > a[imax]:\n",
    "            imax = i\n",
    "    return imax\n",
    "    \n",
    "a = array([2,9,3,8,4,7,5,6])\n",
    "tri_sélection(a)\n",
    "print(a)"
   ]
  },
  {
   "cell_type": "markdown",
   "metadata": {},
   "source": [
    "La complexité du tri par sélection est en $O(n^2)$. En effet, à chaque étape de la boucle (lignes 25-28), l'appel à la fonction `indice_max` prend un temps proportionnel à la taille du tableau."
   ]
  }
 ],
 "metadata": {
  "kernelspec": {
   "display_name": "Python 3",
   "language": "python",
   "name": "python3"
  },
  "language_info": {
   "codemirror_mode": {
    "name": "ipython",
    "version": 3
   },
   "file_extension": ".py",
   "mimetype": "text/x-python",
   "name": "python",
   "nbconvert_exporter": "python",
   "pygments_lexer": "ipython3",
   "version": "3.7.3"
  }
 },
 "nbformat": 4,
 "nbformat_minor": 2
}
