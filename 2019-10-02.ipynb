{
 "cells": [
  {
   "cell_type": "markdown",
   "metadata": {},
   "source": [
    "## Types de données\n",
    "\n",
    "Toute valeur manipulée par l'ordinateur a un **type de données**, qui détermine comment les bits en mémoire sont interprétés.\n",
    "\n",
    "Exemple : les bits `00101010` peuvent représenter l'entier 42 ou le caractère '*'.\n",
    "\n",
    "Dans un langage dynamiquement typé (comme notre langage algorithmique, Python, Javascript...), les variables ne sont pas contraintes par un type donné. Le type de la valeur contenue dans une variable est donc déterminé au cours de l'exécution (dynamique).\n",
    "\n",
    "Dans un langage statiquement typé (comme le C, Java...), les variables ont un type fixé et ne peuvent contenir que des valeurs de ce type. Ce type est donc figé avant même l'exécution (statique)."
   ]
  },
  {
   "cell_type": "markdown",
   "metadata": {},
   "source": [
    "## Expression / instruction\n",
    "\n",
    "Une expression c'est une partie d'un programme qui représente ou produit une valeur.\n",
    "~ groupe nominal\n",
    "\n",
    "Une instruction est une partie d'un programme qui effectue une *action*.\n",
    "~ phrase à l'impératif\n",
    "\n",
    "NB: les deux catégories ne sont pas absolument exclusive, il existe des cas (un peu particuliers) d'expressions qui sont aussi des instructions."
   ]
  },
  {
   "cell_type": "markdown",
   "metadata": {},
   "source": [
    "### Exemple d'instruction pure: l'affectation"
   ]
  },
  {
   "cell_type": "code",
   "execution_count": 5,
   "metadata": {},
   "outputs": [],
   "source": [
    "a = 2\n",
    "b = a\n",
    "c = (a+b) * b\n",
    "q, r = divmod(c,a+1)"
   ]
  },
  {
   "cell_type": "markdown",
   "metadata": {},
   "source": [
    "Une affectation est une instruction structurée ainsi :\n",
    "\n",
    "* un nom de variable (ou plusieurs, séparés par des virgules)\n",
    "* le signe =\n",
    "* une expression"
   ]
  },
  {
   "cell_type": "markdown",
   "metadata": {},
   "source": [
    "### Structure d'une expression\n",
    "\n",
    "Une expression peut être\n",
    "\n",
    "* une valeur litérale (ex: 42, 3.14, \"hello world\")\n",
    "* un nom de variable\n",
    "* deux expressions reliées par un opérateur binaire (+, -, /, ..., ==, !=, <, ..., and, or)\n",
    "* une expression entre parenthèse\n",
    "* un appel de fonction"
   ]
  },
  {
   "cell_type": "markdown",
   "metadata": {},
   "source": [
    "## Le type `bool`\n",
    "\n",
    "Le type `bool` (booléen) contient exactement deux valeurs: `True` et `False`.\n",
    "    \n",
    "Les opérateurs == et =! acceptent comme opérandes des valeurs de n'importe quel type, et donnent comme résultat un booléen.\n",
    "\n",
    "Les opérateurs <, >, <=, >= acceptent comme opérandes deux nombres (int ou float) ou deux chaînes, et donnent comme résultat un booléen.\n",
    "\n",
    "Les opérateurs `and` et `or` acceptent comme opérandes deux booléens, et donnent comme résultat un booléen. L'opérateur unaire `not` sur les booléns est également disponible.\n",
    "\n",
    "Les **expressions booléennes** (i.e. expressions dont le résultat est un booléen) sont en particulier utiliser dans la condition des clauses `if` et `while`. Mais elles peuvent également être utilisées comme n'importe quelle autre expression, en particulier être affectées à une variable."
   ]
  }
 ],
 "metadata": {
  "kernelspec": {
   "display_name": "Python 3",
   "language": "python",
   "name": "python3"
  },
  "language_info": {
   "codemirror_mode": {
    "name": "ipython",
    "version": 3
   },
   "file_extension": ".py",
   "mimetype": "text/x-python",
   "name": "python",
   "nbconvert_exporter": "python",
   "pygments_lexer": "ipython3",
   "version": "3.7.3"
  }
 },
 "nbformat": 4,
 "nbformat_minor": 2
}
