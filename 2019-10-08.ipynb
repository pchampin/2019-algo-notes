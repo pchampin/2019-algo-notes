{
 "cells": [
  {
   "cell_type": "code",
   "execution_count": 1,
   "metadata": {},
   "outputs": [
    {
     "name": "stdout",
     "output_type": "stream",
     "text": [
      "tapez un nombre 2\n",
      "tapez un nombre 2\n",
      "True\n"
     ]
    }
   ],
   "source": [
    "x = float(input(\"tapez un nombre \"))\n",
    "y = float(input(\"tapez un nombre \"))\n",
    "\n",
    "a = not x<y\n",
    "#équivalent à :\n",
    "# a = x>=y  # ⚠ supérieur OU ÉGAL\n",
    "\n",
    "print(a)"
   ]
  },
  {
   "cell_type": "code",
   "execution_count": 2,
   "metadata": {},
   "outputs": [
    {
     "name": "stdout",
     "output_type": "stream",
     "text": [
      "tapez un nombre 2\n",
      "tapez un nombre 0\n",
      "0\n"
     ]
    }
   ],
   "source": [
    "\"\"\"\n",
    ":entrée x: float\n",
    ":entrée y: float\n",
    ":pré-cond: ø\n",
    ":sortie z: float\n",
    ":post-cond: z = x/y si y≠0, sinon z = 0\n",
    "\"\"\"\n",
    "\n",
    "x = float(input(\"tapez un nombre \"))\n",
    "y = float(input(\"tapez un nombre \"))\n",
    "\n",
    "if y != 0:\n",
    "    z = x/y\n",
    "else:\n",
    "    z = 0\n",
    "\n",
    "print(z)"
   ]
  },
  {
   "cell_type": "code",
   "execution_count": 3,
   "metadata": {},
   "outputs": [
    {
     "name": "stdout",
     "output_type": "stream",
     "text": [
      "tapez un nombre 2\n",
      "tapez un nombre 0\n",
      "KO\n"
     ]
    }
   ],
   "source": [
    "\"\"\"\n",
    ":entrée x: float\n",
    ":entrée y: float\n",
    ":pré-cond: ø\n",
    ":sortie message: str\n",
    ":post-cond: message=\"OK\" si x/y est défini et est > 1,\n",
    "            message=\"KO\" sinon\n",
    "\"\"\"\n",
    "\n",
    "x = float(input(\"tapez un nombre \"))\n",
    "y = float(input(\"tapez un nombre \"))\n",
    "\n",
    "if y != 0:\n",
    "    if x/y > 1:\n",
    "        message = \"OK\"\n",
    "    else:\n",
    "        message = \"KO\"\n",
    "else:\n",
    "    message = \"KO\"\n",
    "\n",
    "print(message)"
   ]
  },
  {
   "cell_type": "code",
   "execution_count": 4,
   "metadata": {},
   "outputs": [
    {
     "name": "stdout",
     "output_type": "stream",
     "text": [
      "tapez un nombre 2\n",
      "tapez un nombre 0\n",
      "KO\n"
     ]
    }
   ],
   "source": [
    "\"\"\"\n",
    "cf. ci-dessus\n",
    "\"\"\"\n",
    "\n",
    "x = float(input(\"tapez un nombre \"))\n",
    "y = float(input(\"tapez un nombre \"))\n",
    "\n",
    "if y != 0 and x/y > 1:\n",
    "    message = \"OK\"\n",
    "else:\n",
    "    message = \"KO\"\n",
    "\n",
    "print(message)"
   ]
  },
  {
   "cell_type": "code",
   "execution_count": 5,
   "metadata": {},
   "outputs": [
    {
     "name": "stdout",
     "output_type": "stream",
     "text": [
      "tapez un nombre 2\n",
      "tapez un nombre 0\n",
      "KO\n"
     ]
    }
   ],
   "source": [
    "\"\"\"\n",
    "cf. ci-dessus\n",
    "\"\"\"\n",
    "\n",
    "x = float(input(\"tapez un nombre \"))\n",
    "y = float(input(\"tapez un nombre \"))\n",
    "\n",
    "message = \"KO\"\n",
    "if y != 0:\n",
    "    if x/y > 1:\n",
    "        message = \"OK\"\n",
    "\n",
    "print(message)"
   ]
  },
  {
   "cell_type": "markdown",
   "metadata": {},
   "source": [
    "Les booléens sont des valeurs commes les autres. N'écrivez pas des choses inutilement compliquées. Par exemple :"
   ]
  },
  {
   "cell_type": "code",
   "execution_count": null,
   "metadata": {},
   "outputs": [],
   "source": [
    "i = int(input())\n",
    "j = int(input())\n",
    "k = int(input())\n",
    "\n",
    "\n",
    "# n'écrivez pas :\n",
    "\n",
    "if k!=0 and i % k == 0 and j % k == 0:\n",
    "    bonne_réponse = True\n",
    "else:\n",
    "    bonne_réponse = False\n",
    "    \n",
    "# mais écrivez\n",
    "\n",
    "bonne_réponse = (k!=0 and i % k == 0 and j % k == 0)\n",
    "\n",
    "\n",
    "print(bonne_réponse) "
   ]
  },
  {
   "cell_type": "code",
   "execution_count": null,
   "metadata": {},
   "outputs": [],
   "source": [
    "# n'écrivez PAS \n",
    "if bonne_réponse == True:\n",
    "    print(\"...\")\n",
    "    \n",
    "# mais écrivez\n",
    "if bonne_réponse:\n",
    "    print(\"...\")"
   ]
  }
 ],
 "metadata": {
  "kernelspec": {
   "display_name": "Python 3",
   "language": "python",
   "name": "python3"
  },
  "language_info": {
   "codemirror_mode": {
    "name": "ipython",
    "version": 3
   },
   "file_extension": ".py",
   "mimetype": "text/x-python",
   "name": "python",
   "nbconvert_exporter": "python",
   "pygments_lexer": "ipython3",
   "version": "3.7.3"
  }
 },
 "nbformat": 4,
 "nbformat_minor": 2
}
