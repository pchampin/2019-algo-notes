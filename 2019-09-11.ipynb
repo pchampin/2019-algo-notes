{
 "cells": [
  {
   "cell_type": "markdown",
   "metadata": {},
   "source": [
    "# Spécification / contrat d'un algorithme\n",
    "\n",
    "* entrées : décrit les informations nécessaires pour résoudre le problème ; ces informations décrivent la *question* posée\n",
    "\n",
    "* sorties : décrit les informations qui constituent la solution/réponse.\n",
    "\n",
    "* pré-conditions : critères que doivent vérifier les entrées pour que la question ait un sens (et donc pour que l'algorithme fonctionne)\n",
    "\n",
    "* post-conditions: critères que doivent vérifier les sorties et les entrées pour que la réponse soit correcte\n",
    "\n",
    "Attention à laisser le moins d'ambiguité possible."
   ]
  }
 ],
 "metadata": {
  "kernelspec": {
   "display_name": "Python 3",
   "language": "python",
   "name": "python3"
  },
  "language_info": {
   "codemirror_mode": {
    "name": "ipython",
    "version": 3
   },
   "file_extension": ".py",
   "mimetype": "text/x-python",
   "name": "python",
   "nbconvert_exporter": "python",
   "pygments_lexer": "ipython3",
   "version": "3.7.3"
  }
 },
 "nbformat": 4,
 "nbformat_minor": 2
}
