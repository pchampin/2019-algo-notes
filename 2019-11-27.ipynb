{
 "cells": [
  {
   "cell_type": "code",
   "execution_count": 1,
   "metadata": {},
   "outputs": [],
   "source": [
    "from numpy import *"
   ]
  },
  {
   "cell_type": "code",
   "execution_count": 2,
   "metadata": {},
   "outputs": [
    {
     "name": "stdout",
     "output_type": "stream",
     "text": [
      "[10.  8.  6.  4.  2.]\n"
     ]
    }
   ],
   "source": [
    "def inverse(a: [float]) -> [float]:\n",
    "    \"\"\"\n",
    "    :pré-cond: ø\n",
    "    :post-cond: retourne un tableau inv tel que\n",
    "        len(inv) = len(a)\n",
    "        pour tout i inv[i] == a[len(a)-1-i]\n",
    "    \"\"\"\n",
    "    inv = empty(len(a), float)\n",
    "    i = 0\n",
    "    j = len(inv)-1\n",
    "    while i < len(a):\n",
    "        inv[j] = a[i]\n",
    "        i = i+1\n",
    "        j = j-1\n",
    "    return inv\n",
    "        \n",
    "print( inverse(array([2,4,6,8,10.0])))"
   ]
  },
  {
   "cell_type": "code",
   "execution_count": 3,
   "metadata": {},
   "outputs": [
    {
     "name": "stdout",
     "output_type": "stream",
     "text": [
      "[  2   3   5   7  11  13  17  19  23  29  31  37  41  43  47  53  59  61\n",
      "  67  71  73  79  83  89  97 101 103 107 109 113 127 131 137 139 149 151\n",
      " 157 163 167 173 179 181 191 193 197 199 211 223 227 229 233 239 241 251\n",
      " 257 263 269 271 277 281 283 293 307 311 313 317 331 337 347 349 353 359\n",
      " 367 373 379 383 389 397 401 409 419 421 431 433 439 443 449 457 461 463\n",
      " 467 479 487 491 499 503 509 521 523 541]\n"
     ]
    }
   ],
   "source": [
    "def premiers(n: int) -> [int]:\n",
    "    \"\"\"\n",
    "    :pré-cond: n>0\n",
    "    :post-cond: retourne un tableau contenant\n",
    "        les n premiers nombres premiers\n",
    "    \"\"\"\n",
    "    prem = empty(n, int)\n",
    "    trouvés = 0\n",
    "    candidat = 2\n",
    "    while trouvés < n:\n",
    "        premier = True\n",
    "        i = 0\n",
    "        while premier and i<trouvés and prem[i]*prem[i]<=candidat:\n",
    "            if candidat%prem[i]==0:\n",
    "                premier = False\n",
    "            i = i+1\n",
    "        if premier:\n",
    "            prem[trouvés] = candidat\n",
    "            trouvés = trouvés+1      \n",
    "        candidat = candidat+1\n",
    "    return prem\n",
    "\n",
    "print( premiers(100) )"
   ]
  },
  {
   "cell_type": "code",
   "execution_count": 4,
   "metadata": {},
   "outputs": [
    {
     "name": "stdout",
     "output_type": "stream",
     "text": [
      "[-2 -2 -2 -2  3  3  0  0  0  0  0  1]\n"
     ]
    }
   ],
   "source": [
    "def décompresse(comp: [int]) -> [int]:\n",
    "    \"\"\"\n",
    "    :pré-cond: len(comp) est paire\n",
    "        pour tout i impair comp[i] > 0\n",
    "    :post-cond: retourne le tableau représenté par 'comp'\n",
    "        ou chaque couple de valeur de comp représente\n",
    "        une valeur suivie de son nombre d'occurences\n",
    "        ex: [-2 4 3 2 0 5 1 1] -> [-2 -2 -2 -2 3 3 0 0 0 0 0 1]\n",
    "    \"\"\"\n",
    "    len_totale = 0\n",
    "    i = 1\n",
    "    while i<len(comp):\n",
    "        len_totale = len_totale + comp[i]\n",
    "        i = i+2\n",
    "    data = empty(len_totale, int)\n",
    "    \n",
    "    ic = 0 # indice dans comp\n",
    "    id = 0 # indice dans data\n",
    "    while ic<len(comp):\n",
    "        val = comp[ic]\n",
    "        nb_val = comp[ic+1]\n",
    "        while nb_val > 0:\n",
    "            data[id] = val\n",
    "            id = id+1\n",
    "            nb_val = nb_val-1        \n",
    "        ic = ic+2\n",
    "    return data\n",
    "\n",
    "print( décompresse(array([-2, 4, 3, 2, 0, 5, 1, 1])) )"
   ]
  },
  {
   "cell_type": "markdown",
   "metadata": {},
   "source": [
    "## Tableaux et mutabilité"
   ]
  },
  {
   "cell_type": "code",
   "execution_count": 5,
   "metadata": {},
   "outputs": [
    {
     "name": "stdout",
     "output_type": "stream",
     "text": [
      "-42\n",
      "42\n"
     ]
    }
   ],
   "source": [
    "a = 42\n",
    "\n",
    "def f(n: int) -> int:\n",
    "    n = -n\n",
    "    return n\n",
    "\n",
    "print( f(a) )\n",
    "print( a    )"
   ]
  },
  {
   "cell_type": "code",
   "execution_count": 6,
   "metadata": {},
   "outputs": [
    {
     "name": "stdout",
     "output_type": "stream",
     "text": [
      "43\n",
      "42\n"
     ]
    }
   ],
   "source": [
    "a = 42\n",
    "b = a\n",
    "b = b+1\n",
    "print(  b  )\n",
    "print(  a  )"
   ]
  },
  {
   "cell_type": "code",
   "execution_count": 7,
   "metadata": {},
   "outputs": [
    {
     "name": "stdout",
     "output_type": "stream",
     "text": [
      "[43  3 42]\n",
      "[43  3 42]\n"
     ]
    }
   ],
   "source": [
    "a = array([42,3,42])\n",
    "b = a\n",
    "b[0] = b[0]+1\n",
    "print(  b  )\n",
    "print(  a  )"
   ]
  },
  {
   "cell_type": "code",
   "execution_count": 8,
   "metadata": {},
   "outputs": [
    {
     "name": "stdout",
     "output_type": "stream",
     "text": [
      "[43]\n",
      "[42]\n"
     ]
    }
   ],
   "source": [
    "a = array([42])\n",
    "b = a\n",
    "b = array([43])\n",
    "print(  b  )\n",
    "print(  a  )"
   ]
  },
  {
   "cell_type": "code",
   "execution_count": 9,
   "metadata": {},
   "outputs": [
    {
     "name": "stdout",
     "output_type": "stream",
     "text": [
      "-42\n",
      "[-42]\n"
     ]
    }
   ],
   "source": [
    "a = array([42])\n",
    "\n",
    "def f(b: [int]) -> int:\n",
    "    b[0] = -b[0]\n",
    "    return b[0]\n",
    "\n",
    "print(  f(a)  )\n",
    "print(  a     )"
   ]
  }
 ],
 "metadata": {
  "kernelspec": {
   "display_name": "Python 3",
   "language": "python",
   "name": "python3"
  },
  "language_info": {
   "codemirror_mode": {
    "name": "ipython",
    "version": 3
   },
   "file_extension": ".py",
   "mimetype": "text/x-python",
   "name": "python",
   "nbconvert_exporter": "python",
   "pygments_lexer": "ipython3",
   "version": "3.7.3"
  }
 },
 "nbformat": 4,
 "nbformat_minor": 2
}
