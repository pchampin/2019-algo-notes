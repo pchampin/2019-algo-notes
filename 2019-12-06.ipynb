{
 "cells": [
  {
   "cell_type": "markdown",
   "metadata": {},
   "source": [
    "# Fonctions récursives\n",
    "\n",
    "Une fonction récursive est une fonction qui s'appelle elle-même.\n",
    "\n",
    "Une fonction récursive a la forme suivante :\n",
    "\n",
    "un `if-else` comportant\n",
    "\n",
    "  * un (ou plusieurs) cas \"simple(s)\",\n",
    "    pour le(s)quel(s) il n'est pas nécessaire de rappeler la fonction;\n",
    "      \n",
    "  * un (ou plusieurs) cas \"complexe(s)\",\n",
    "    pour le(s)quel(s) la solution est calculée en rappelant la fonction\n",
    "    sur un cas *plus simple* que celui qu'on nous a donné.\n",
    "      \n",
    "  * Sauf cas exceptionnel, une fonction récursive NE CONTIENT PAS de `while`.\n",
    "    \n",
    "NB: tout algo itératif (i.e. avec une boucle `while` ou `for`) peut être ré-écrit en récursif.\n",
    "Tout algo récursif peut en théorie être ré-écrit en itératif, mais cela peut être très compliqué."
   ]
  },
  {
   "cell_type": "code",
   "execution_count": 28,
   "metadata": {},
   "outputs": [
    {
     "name": "stdout",
     "output_type": "stream",
     "text": [
      "1\n"
     ]
    }
   ],
   "source": [
    "def puissance(x: float, n: int) -> float:\n",
    "    \"\"\"\n",
    "    :pré-cond: n≥0\n",
    "    :post-cond: retourne xⁿ\n",
    "    \"\"\"\n",
    "    if n==0:\n",
    "        p = 1\n",
    "    else:\n",
    "        p = puissance(x, n-1)*x\n",
    "    return p\n",
    "\n",
    "print( puissance(2, 0) )"
   ]
  },
  {
   "cell_type": "code",
   "execution_count": 37,
   "metadata": {},
   "outputs": [
    {
     "name": "stdout",
     "output_type": "stream",
     "text": [
      "0 1\n",
      "1 1\n",
      "2 2\n",
      "3 3\n"
     ]
    }
   ],
   "source": [
    "def fibo(n: int) -> int:\n",
    "    \"\"\"\n",
    "    pré-cond: n≥0\n",
    "    pos-cond: retourne le terme Fₙ de la suite de Fibonacci\n",
    "    \"\"\"\n",
    "    if n<2:\n",
    "        fₙ = 1\n",
    "    else:\n",
    "        fₙ = fibo(n-1)+fibo(n-2)\n",
    "    return fₙ\n",
    "\n",
    "# Application directe de la définition,\n",
    "# mais ayant une complexité exponentielle O(2)\n",
    "\n",
    "for i in range(43):\n",
    "    print(i, fibo(i) )"
   ]
  },
  {
   "cell_type": "code",
   "execution_count": 38,
   "metadata": {},
   "outputs": [
    {
     "name": "stdout",
     "output_type": "stream",
     "text": [
      "0 1\n",
      "1 1\n",
      "2 2\n",
      "3 3\n",
      "4 5\n",
      "5 8\n",
      "6 13\n",
      "7 21\n",
      "8 34\n",
      "9 55\n",
      "10 89\n",
      "11 144\n",
      "12 233\n",
      "13 377\n",
      "14 610\n",
      "15 987\n",
      "16 1597\n",
      "17 2584\n",
      "18 4181\n",
      "19 6765\n",
      "20 10946\n",
      "21 17711\n",
      "22 28657\n",
      "23 46368\n",
      "24 75025\n",
      "25 121393\n",
      "26 196418\n",
      "27 317811\n",
      "28 514229\n",
      "29 832040\n",
      "30 1346269\n",
      "31 2178309\n",
      "32 3524578\n",
      "33 5702887\n",
      "34 9227465\n",
      "35 14930352\n",
      "36 24157817\n",
      "37 39088169\n",
      "38 63245986\n",
      "39 102334155\n",
      "40 165580141\n",
      "41 267914296\n",
      "42 433494437\n"
     ]
    }
   ],
   "source": [
    "# version itérative, avec une complexité linéaire\n",
    "\n",
    "def fibo(n: int) -> int:\n",
    "    \"\"\"\n",
    "    pré-cond: n≥0\n",
    "    pos-cond: retourne le terme Fₙ de la suite de Fibonacci\n",
    "    \"\"\"\n",
    "    i = 1\n",
    "    fᵢ = 1    # Fᵢ\n",
    "    fᵢₘ1 = 1  # Fᵢ₋₁\n",
    "    while i<n:\n",
    "        prochain = fᵢ+fᵢₘ1\n",
    "        fᵢₘ1 = fᵢ\n",
    "        fᵢ = prochain\n",
    "        i = i+1\n",
    "    return fᵢ\n",
    "\n",
    "for i in range(43):\n",
    "    print(i, fibo(i) )"
   ]
  },
  {
   "cell_type": "code",
   "execution_count": 39,
   "metadata": {},
   "outputs": [
    {
     "name": "stdout",
     "output_type": "stream",
     "text": [
      "0 1\n",
      "1 1\n",
      "2 2\n",
      "3 3\n",
      "4 5\n",
      "5 8\n",
      "6 13\n",
      "7 21\n",
      "8 34\n",
      "9 55\n",
      "10 89\n",
      "11 144\n",
      "12 233\n",
      "13 377\n",
      "14 610\n",
      "15 987\n",
      "16 1597\n",
      "17 2584\n",
      "18 4181\n",
      "19 6765\n",
      "20 10946\n",
      "21 17711\n",
      "22 28657\n",
      "23 46368\n",
      "24 75025\n",
      "25 121393\n",
      "26 196418\n",
      "27 317811\n",
      "28 514229\n",
      "29 832040\n",
      "30 1346269\n",
      "31 2178309\n",
      "32 3524578\n",
      "33 5702887\n",
      "34 9227465\n",
      "35 14930352\n",
      "36 24157817\n",
      "37 39088169\n",
      "38 63245986\n",
      "39 102334155\n",
      "40 165580141\n",
      "41 267914296\n",
      "42 433494437\n"
     ]
    }
   ],
   "source": [
    "def fibo(n: int) -> int:\n",
    "    \"\"\"\n",
    "    pré-cond: n≥0\n",
    "    pos-cond: retourne le terme Fₙ de la suite de Fibonacci\n",
    "    \"\"\"\n",
    "    if n>0:\n",
    "        fₙ, fₙₘ1 = fibo2(n)\n",
    "    else:\n",
    "        fₙ = 1\n",
    "    return fₙ\n",
    "\n",
    "def fibo2(n: int) -> (int, int):\n",
    "    \"\"\"\n",
    "    pré-cond: n>0\n",
    "    pos-cond: retourne les termes Fₙ et Fₙ₋₁ de la suite de Fibonacci\n",
    "    \"\"\"\n",
    "    if n==1:\n",
    "        fₙ = 1\n",
    "        fₙₘ1 =1\n",
    "    else:\n",
    "        fₙₘ1, fₙₘ2 = fibo2(n-1)\n",
    "        fₙ = fₙₘ1+fₙₘ2\n",
    "    return fₙ, fnm1\n",
    "\n",
    "for i in range(43):\n",
    "    print(i, fibo(i) )"
   ]
  }
 ],
 "metadata": {
  "kernelspec": {
   "display_name": "Python 3",
   "language": "python",
   "name": "python3"
  },
  "language_info": {
   "codemirror_mode": {
    "name": "ipython",
    "version": 3
   },
   "file_extension": ".py",
   "mimetype": "text/x-python",
   "name": "python",
   "nbconvert_exporter": "python",
   "pygments_lexer": "ipython3",
   "version": "3.7.3"
  }
 },
 "nbformat": 4,
 "nbformat_minor": 2
}
