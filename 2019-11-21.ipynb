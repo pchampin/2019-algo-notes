{
 "cells": [
  {
   "cell_type": "markdown",
   "metadata": {},
   "source": [
    "# Tableaux\n",
    "\n",
    "* un tableau est une zone mémoire contenant plusieurs valeurs ordonnées,\n",
    "  toutes de même type\n",
    "* chaque valeur du tableau est identifiée par sa position\n",
    "* le nombre d'éléments d'un tableau est fixe (on ne peut pas le modifier)"
   ]
  },
  {
   "cell_type": "code",
   "execution_count": 1,
   "metadata": {},
   "outputs": [],
   "source": [
    "from numpy import *"
   ]
  },
  {
   "cell_type": "code",
   "execution_count": 2,
   "metadata": {},
   "outputs": [
    {
     "name": "stdout",
     "output_type": "stream",
     "text": [
      "[ 1.5   2.    3.14  0.   -2.  ]\n"
     ]
    }
   ],
   "source": [
    "a = array([1.5, 2, 3.14, 0, -2])\n",
    "print(a)"
   ]
  },
  {
   "cell_type": "code",
   "execution_count": 3,
   "metadata": {},
   "outputs": [
    {
     "name": "stdout",
     "output_type": "stream",
     "text": [
      "5\n",
      "1.5\n",
      "[42.    2.    3.14  0.   -2.  ]\n"
     ]
    }
   ],
   "source": [
    "print( len(a) )  # nombre d'éléments du tableau\n",
    "print( a[0] )    # accès au premier élément\n",
    "a[0] = 42        # modification du premier élément\n",
    "print(a)"
   ]
  },
  {
   "cell_type": "code",
   "execution_count": 4,
   "metadata": {},
   "outputs": [],
   "source": [
    "def indice_min(a: [float]) -> int:\n",
    "    \"\"\"\n",
    "    :pré-cond: len(a) > 0\n",
    "    :post-cond: return imin entre 0 et len(a)-1 tel que\n",
    "                a[imin] ≤ a[i] pour tout i entre 0 et len(a)-1\n",
    "    \"\"\"\n",
    "    imin = 0\n",
    "    i = 1\n",
    "    while i<len(a):\n",
    "        if a[i]<a[imin]:\n",
    "            imin = i\n",
    "        i = i+1\n",
    "    return imin\n",
    "\n",
    "# complexité : O(len(a))\n",
    "\n",
    "# NB: ce contrat est sous-spécifié :\n",
    "# il admet plusieurs bonnes réponses dans certains cas,\n",
    "# par exemple: [ 99, 101, 99, 101, 99 ]"
   ]
  },
  {
   "cell_type": "code",
   "execution_count": 5,
   "metadata": {},
   "outputs": [],
   "source": [
    "def position(a: [float], v: float) -> int:\n",
    "    \"\"\"\n",
    "    :pré-cond: ø\n",
    "    :post-cond: return iv entre -1 et len(a)-1 tel que\n",
    "        a[iv] = v si v est présent dans a,\n",
    "        iv=-1 sinon\n",
    "    \"\"\"\n",
    "    iv = -1\n",
    "    i = 0\n",
    "    while i<len(a) and iv==-1:\n",
    "        if a[i] == v:\n",
    "            iv = i\n",
    "        i = i+1\n",
    "    return iv\n",
    "\n",
    "# complexité dans le pire des cas O(len(a))"
   ]
  },
  {
   "cell_type": "code",
   "execution_count": 6,
   "metadata": {},
   "outputs": [],
   "source": [
    "def position_droite(a: [float], v: float) -> int:\n",
    "    \"\"\"\n",
    "    :pré-cond: ø\n",
    "    :post-cond: retourne la plus grande valeur possible iv entre -1 et len(a)-1 tel que\n",
    "        a[iv] = v si v est présent dans a,\n",
    "        iv=-1 sinon\n",
    "    \"\"\"\n",
    "    iv = -1\n",
    "    i = len(a)-1\n",
    "    while i>=0 and iv==-1:\n",
    "        if a[i] == v:\n",
    "            iv = i\n",
    "        i = i-1\n",
    "    return iv\n",
    "\n",
    "# complexité dans le pire des cas O(len(a))"
   ]
  },
  {
   "cell_type": "code",
   "execution_count": 7,
   "metadata": {},
   "outputs": [
    {
     "ename": "IndentationError",
     "evalue": "expected an indented block (<ipython-input-7-3d3d489a54d0>, line 15)",
     "output_type": "error",
     "traceback": [
      "\u001b[0;36m  File \u001b[0;32m\"<ipython-input-7-3d3d489a54d0>\"\u001b[0;36m, line \u001b[0;32m15\u001b[0m\n\u001b[0;31m    return iv\u001b[0m\n\u001b[0m         ^\u001b[0m\n\u001b[0;31mIndentationError\u001b[0m\u001b[0;31m:\u001b[0m expected an indented block\n"
     ]
    }
   ],
   "source": [
    "def position_t(a: [float], v: float) -> int:\n",
    "    \"\"\"\n",
    "    :pré-cond: a est trié par ordre croissant\n",
    "    :post-cond: retourne iv entre -1 et len(a)-1 tel que\n",
    "        a[iv] = v si v est présent dans a,\n",
    "        iv=-1 sinon\n",
    "    \"\"\"\n",
    "    # recherche dichotomique\n",
    "    iv = -1\n",
    "    \n",
    "    ig = 0\n",
    "    id = len(a)-1\n",
    "    while ig <= id and iv==-1:\n",
    "        # correction la prochaine fois\n",
    "    return iv\n"
   ]
  }
 ],
 "metadata": {
  "kernelspec": {
   "display_name": "Python 3",
   "language": "python",
   "name": "python3"
  },
  "language_info": {
   "codemirror_mode": {
    "name": "ipython",
    "version": 3
   },
   "file_extension": ".py",
   "mimetype": "text/x-python",
   "name": "python",
   "nbconvert_exporter": "python",
   "pygments_lexer": "ipython3",
   "version": "3.7.3"
  }
 },
 "nbformat": 4,
 "nbformat_minor": 2
}
