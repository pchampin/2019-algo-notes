{
 "cells": [
  {
   "cell_type": "code",
   "execution_count": 1,
   "metadata": {},
   "outputs": [
    {
     "name": "stdout",
     "output_type": "stream",
     "text": [
      "hello \"world\"!\n"
     ]
    }
   ],
   "source": [
    "message = \"hello\" + \" \\\"world\\\"!\"\n",
    "print(message)"
   ]
  },
  {
   "cell_type": "code",
   "execution_count": 2,
   "metadata": {},
   "outputs": [
    {
     "name": "stdout",
     "output_type": "stream",
     "text": [
      "14\n",
      "0\n"
     ]
    }
   ],
   "source": [
    "# len(txt: str) -> int\n",
    "\"\"\"\n",
    ":entrée txt: str\n",
    ":pré-cond: ø\n",
    ":sortie: int\n",
    ":post-cond: retounr le nombre de caractère dans txt (longueur de txt)\n",
    "\"\"\"\n",
    "\n",
    "print(len(message))\n",
    "print(len(\"\"))"
   ]
  },
  {
   "cell_type": "code",
   "execution_count": 3,
   "metadata": {},
   "outputs": [
    {
     "name": "stdout",
     "output_type": "stream",
     "text": [
      "h\n",
      "e\n",
      "!\n"
     ]
    }
   ],
   "source": [
    "# l'indice doit appartenir à l'intervalle [0, len(message)[\n",
    "print(message[0])\n",
    "print(message[1])\n",
    "print(message[len(message)-1])"
   ]
  },
  {
   "cell_type": "code",
   "execution_count": 4,
   "metadata": {},
   "outputs": [],
   "source": [
    "def compte_c(txt: str, car: str) -> int:\n",
    "    \"\"\"\n",
    "    :pré-cond: len(car) = 1\n",
    "    :post-cond: retourne le nombre d'occurences de 'car' dans 'txt'\n",
    "    \"\"\"\n",
    "    occurences = 0\n",
    "    i = 0\n",
    "    while i < len(txt):\n",
    "        if txt[i] == car:\n",
    "            occurences += 1\n",
    "        i += 1\n",
    "    return occurences"
   ]
  },
  {
   "cell_type": "code",
   "execution_count": 5,
   "metadata": {},
   "outputs": [],
   "source": [
    "def commence_par(txt: str, sub: str) -> bool:\n",
    "    \"\"\"\n",
    "    post-cond: retourne True ssi txt commence par sub\n",
    "    \"\"\"\n",
    "    ok = (len(txt)>=len(sub))\n",
    "    i = 0\n",
    "    while ok and i < len(sub):\n",
    "        if txt[i] != sub[i]:\n",
    "            ok = False\n",
    "        i += 1\n",
    "    return ok\n"
   ]
  },
  {
   "cell_type": "code",
   "execution_count": 6,
   "metadata": {},
   "outputs": [],
   "source": [
    "def contient(txt: str, sub: str) -> bool:\n",
    "    \"\"\"\n",
    "    post-cond: retourne True ssi txt contient sub\n",
    "    \"\"\""
   ]
  }
 ],
 "metadata": {
  "kernelspec": {
   "display_name": "Python 3",
   "language": "python",
   "name": "python3"
  },
  "language_info": {
   "codemirror_mode": {
    "name": "ipython",
    "version": 3
   },
   "file_extension": ".py",
   "mimetype": "text/x-python",
   "name": "python",
   "nbconvert_exporter": "python",
   "pygments_lexer": "ipython3",
   "version": "3.7.3"
  }
 },
 "nbformat": 4,
 "nbformat_minor": 2
}
