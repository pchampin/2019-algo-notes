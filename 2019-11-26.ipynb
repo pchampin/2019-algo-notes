{
 "cells": [
  {
   "cell_type": "code",
   "execution_count": 1,
   "metadata": {},
   "outputs": [],
   "source": [
    "from numpy import *"
   ]
  },
  {
   "cell_type": "code",
   "execution_count": 2,
   "metadata": {},
   "outputs": [],
   "source": [
    "def position_t(a: [float], v: float) -> int:\n",
    "    \"\"\"\n",
    "    :pré-cond: a est trié par ordre croissant\n",
    "    :post-cond: retourne iv entre -1 et len(a)-1 tel que\n",
    "        a[iv] = v si v est présent dans a,\n",
    "        iv=-1 sinon\n",
    "    \"\"\"\n",
    "    # recherche dichotomique\n",
    "    iv = -1\n",
    "    \n",
    "    ig = 0\n",
    "    id = len(a)-1\n",
    "    while ig <= id and iv==-1:\n",
    "        im = (ig+id)//2\n",
    "        if a[im] == v:\n",
    "            iv = im\n",
    "        else:\n",
    "            if v < a[im]: # on garde la moitié de gauche\n",
    "                id = im-1\n",
    "            else: # on garde la moitié de droite\n",
    "                ig = im+1\n",
    "    return iv\n",
    "\n",
    "# complexité dans le pire des cas O(log(len(a)))"
   ]
  },
  {
   "cell_type": "markdown",
   "metadata": {},
   "source": [
    "À titre indicatif :\n",
    "\n",
    "```\n",
    "len(a)          |  2s   8s  64s  1024s  32768s\n",
    "                |               ~17min     ~9h\n",
    "\n",
    "10*log₂(len(a)) | 10s  30s  60s   100s    150s\n",
    "```\n",
    "\n",
    "→ même avec un facteur multiplicatif de 10, un algorithme logarithmique est beaucoup plus rapide qu'un algorithme linéaire dès que la taille de l'entrée devient grande."
   ]
  },
  {
   "cell_type": "code",
   "execution_count": 3,
   "metadata": {},
   "outputs": [],
   "source": [
    "def moyenne(a: [float]) -> float:\n",
    "    \"\"\"\n",
    "    :pré-cond: len(a) > 0\n",
    "    :post-cond: retourne la moyenne des éléments de a\n",
    "    \"\"\"\n",
    "    somme = 0.0\n",
    "    i = 0\n",
    "    while i < len(a):\n",
    "        somme = somme + a[i]\n",
    "        i = i+1\n",
    "    return somme/len(a)\n"
   ]
  },
  {
   "cell_type": "code",
   "execution_count": 4,
   "metadata": {},
   "outputs": [],
   "source": [
    "def variance(valeurs: [float]) -> float:\n",
    "    \"\"\"\n",
    "    :pré-cond: len(valeurs) > 0\n",
    "    :post-cond: retourne la variance des éléments de 'valeurs'\n",
    "        (i.e. moyenne des carrés des écarts à la moyenne)\n",
    "    \"\"\"\n",
    "    moy = moyenne(valeurs)\n",
    "    somme = 0\n",
    "    i = 0\n",
    "    while i < len(valeurs):\n",
    "        écart = a[i]-moy\n",
    "        somme = somme + écart*écart\n",
    "        i = i+1\n",
    "    return somme/len(valeurs)      "
   ]
  },
  {
   "cell_type": "markdown",
   "metadata": {},
   "source": [
    "## La boucle `for`\n",
    "\n",
    "⚠ Cette boucle (parfois nommée *\"for each\"*) est très différente de la boucle `for` du C, qui n'est qu'un `while` \"déguisé\".\n",
    "\n",
    "La boucle `for` peut s'exécuter sur n'importe quel \"itérable\". Les seuls itérable que nous connaissons sont les tableaux et les chaînes de caractères.\n",
    "\n",
    "Elle s'écrit : `for` *variable* `in` *iterable* `:`\n",
    "\n",
    "La variable successivement pour valeur toutes les valeurs contenues dans l'itérable. En d'autres termes"
   ]
  },
  {
   "cell_type": "code",
   "execution_count": 5,
   "metadata": {},
   "outputs": [
    {
     "name": "stdout",
     "output_type": "stream",
     "text": [
      "10\n",
      "20\n",
      "30\n",
      "40\n",
      "50\n"
     ]
    }
   ],
   "source": [
    "a = array([10,20,30,40,50])\n",
    "\n",
    "for v in a:\n",
    "    print(v)"
   ]
  },
  {
   "cell_type": "markdown",
   "metadata": {},
   "source": [
    "équivaut à"
   ]
  },
  {
   "cell_type": "code",
   "execution_count": 6,
   "metadata": {},
   "outputs": [
    {
     "name": "stdout",
     "output_type": "stream",
     "text": [
      "10\n",
      "20\n",
      "30\n",
      "40\n",
      "50\n"
     ]
    }
   ],
   "source": [
    "a = array([10,20,30,40,50])\n",
    "\n",
    "i = 0\n",
    "while i < len(a):\n",
    "    v = a[i]\n",
    "    print(v)\n",
    "    i = i+1"
   ]
  },
  {
   "cell_type": "markdown",
   "metadata": {},
   "source": [
    "La boucle `for` par rapport à la boucle `while`:\n",
    "\n",
    "* avantage : plus simple à écrire\n",
    "\n",
    "* inconvénient : on perd les indices\n",
    "\n",
    "### La fonction `range`\n",
    "\n",
    "La fonction `range` prend en entrée un entier positif $n$,\n",
    "et retourne une séquence de $n$ entier commençant à 0 (et se terminant donc par $n-1$)."
   ]
  },
  {
   "cell_type": "code",
   "execution_count": 7,
   "metadata": {},
   "outputs": [
    {
     "name": "stdout",
     "output_type": "stream",
     "text": [
      "0\n",
      "1\n",
      "2\n",
      "3\n",
      "4\n"
     ]
    }
   ],
   "source": [
    "for i in range(5):\n",
    "    print(i)"
   ]
  },
  {
   "cell_type": "markdown",
   "metadata": {},
   "source": [
    "On peut donc l'utiliser pour itérer sur les indices d'un tableau,\n",
    "et ainsi avoir le meilleur des deux mondes."
   ]
  },
  {
   "cell_type": "code",
   "execution_count": 8,
   "metadata": {},
   "outputs": [
    {
     "name": "stdout",
     "output_type": "stream",
     "text": [
      "10\n",
      "20\n",
      "30\n",
      "40\n",
      "50\n"
     ]
    }
   ],
   "source": [
    "for i in range(len(a)):\n",
    "    print(a[i])"
   ]
  },
  {
   "cell_type": "code",
   "execution_count": 9,
   "metadata": {},
   "outputs": [],
   "source": [
    "# Ré-écriture de la fonction moyenne avec une boucle for\n",
    "\n",
    "def moyenne(a: [float]) -> float:\n",
    "    \"\"\"\n",
    "    :pré-cond: len(a) > 0\n",
    "    :post-cond: retourne la moyenne des éléments de a\n",
    "    \"\"\"\n",
    "    somme = 0.0\n",
    "    for v in a:\n",
    "        somme = somme + v\n",
    "    return somme/len(a)\n"
   ]
  },
  {
   "cell_type": "markdown",
   "metadata": {},
   "source": [
    "## Création d'un tableau de taille variable\n",
    "\n",
    "On a déjà vu qu'un tableau de taille fixe, dont les éléments sont connus,\n",
    "était créé avec la fonction `array`."
   ]
  },
  {
   "cell_type": "code",
   "execution_count": 10,
   "metadata": {},
   "outputs": [],
   "source": [
    "a = array([2,4,6,8])"
   ]
  },
  {
   "cell_type": "markdown",
   "metadata": {},
   "source": [
    "Pour créer un tableau de taille variable,\n",
    "dont les éléments ne sont *pas initialisés*\n",
    "(et donc contiendront des valeurs aléatoires),\n",
    "on pourra utiliser la fonction `empty`\n",
    "(qui prend en paramètres la taille du tableau et le type des éléments).\n"
   ]
  },
  {
   "cell_type": "code",
   "execution_count": 11,
   "metadata": {},
   "outputs": [
    {
     "name": "stdout",
     "output_type": "stream",
     "text": [
      "[0.   0.01 0.02 0.03 0.04 0.05 0.06 0.07 0.08 0.09 0.1  0.11 0.12 0.13\n",
      " 0.14 0.15 0.16 0.17 0.18 0.19 0.2  0.21 0.22 0.23 0.24 0.25 0.26 0.27\n",
      " 0.28 0.29 0.3  0.31 0.32 0.33 0.34 0.35 0.36 0.37 0.38 0.39 0.4  0.41\n",
      " 0.42 0.43 0.44 0.45 0.46 0.47 0.48 0.49 0.5  0.51 0.52 0.53 0.54 0.55\n",
      " 0.56 0.57 0.58 0.59 0.6  0.61 0.62 0.63 0.64 0.65 0.66 0.67 0.68 0.69\n",
      " 0.7  0.71 0.72 0.73 0.74 0.75 0.76 0.77 0.78 0.79 0.8  0.81 0.82 0.83\n",
      " 0.84 0.85 0.86 0.87 0.88 0.89 0.9  0.91 0.92 0.93 0.94 0.95 0.96 0.97\n",
      " 0.98 0.99]\n"
     ]
    }
   ],
   "source": [
    "\n",
    "a = empty(100, float)\n",
    "# Il faut initialiser le tableau :\n",
    "i = 0\n",
    "while i < 100:\n",
    "    a[i] = i/100\n",
    "    i = i+1\n",
    "print(a)"
   ]
  },
  {
   "cell_type": "code",
   "execution_count": 12,
   "metadata": {},
   "outputs": [
    {
     "name": "stdout",
     "output_type": "stream",
     "text": [
      "[        1         1         2         3         5         8        13\n",
      "        21        34        55        89       144       233       377\n",
      "       610       987      1597      2584      4181      6765     10946\n",
      "     17711     28657     46368     75025    121393    196418    317811\n",
      "    514229    832040   1346269   2178309   3524578   5702887   9227465\n",
      "  14930352  24157817  39088169  63245986 102334155 165580141 267914296]\n"
     ]
    }
   ],
   "source": [
    "def fibonacci(n: int) -> [int]:\n",
    "    \"\"\"\n",
    "    :pré-cond: n > 2\n",
    "    :post-cond: retourne un tableau contenant les n premiers\n",
    "                termes de la suite de Fibonacci\n",
    "    \"\"\"\n",
    "    fibo = empty(n, int)\n",
    "    fibo[0] = 1\n",
    "    fibo[1] = 1\n",
    "    i = 2\n",
    "    while i < n:\n",
    "        fibo[i] = fibo[i-1]+fibo[i-2]\n",
    "        i = i+1\n",
    "    return fibo\n",
    "\n",
    "f = fibonacci(42)\n",
    "print(f)"
   ]
  }
 ],
 "metadata": {
  "kernelspec": {
   "display_name": "Python 3",
   "language": "python",
   "name": "python3"
  },
  "language_info": {
   "codemirror_mode": {
    "name": "ipython",
    "version": 3
   },
   "file_extension": ".py",
   "mimetype": "text/x-python",
   "name": "python",
   "nbconvert_exporter": "python",
   "pygments_lexer": "ipython3",
   "version": "3.7.3"
  }
 },
 "nbformat": 4,
 "nbformat_minor": 2
}
