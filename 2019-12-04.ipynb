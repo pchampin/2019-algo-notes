{
 "cells": [
  {
   "cell_type": "code",
   "execution_count": 1,
   "metadata": {},
   "outputs": [
    {
     "name": "stdout",
     "output_type": "stream",
     "text": [
      "3.0\n",
      "[3. 4. 6.]\n"
     ]
    }
   ],
   "source": [
    "from numpy import *\n",
    "\n",
    "def f(a: [float]) -> float:\n",
    "    a[0] = a[0]+1\n",
    "    return a[0]\n",
    "\n",
    "mon_tableau = array([2.0, 4.0, 6.0])\n",
    "print( f(mon_tableau) )\n",
    "print(mon_tableau)"
   ]
  },
  {
   "cell_type": "code",
   "execution_count": 2,
   "metadata": {},
   "outputs": [
    {
     "name": "stdout",
     "output_type": "stream",
     "text": [
      "[10.  8.  6.  4.  2.]\n"
     ]
    }
   ],
   "source": [
    "# lorsqu'un tableau est un paramètre d'entrée d'une fonction\n",
    "# la fonction ne DOIT PAS le modifier\n",
    "\n",
    "# on introduit un nouveau type de paramètre :\n",
    "# les paramètres d'entrée/sortie (e/s),\n",
    "# que la fonction est autorisée à modifier\n",
    "\n",
    "def inverse_en_place(a: [float]):\n",
    "    \"\"\"\n",
    "    :e/s a: [float]\n",
    "    :pré-cond: ø\n",
    "    :post-cond: pour tout i dans [0,len(a)[\n",
    "                a_s[i] = a_e[len(a)-1-i]\n",
    "    \"\"\"\n",
    "    i = 0\n",
    "    while i < len(a)//2:\n",
    "        tmp = a[i]\n",
    "        a[i] = a[len(a)-1-i]\n",
    "        a[len(a)-1-i] = tmp\n",
    "        i = i+1\n",
    "    \n",
    "mon_tableau = array([2.0, 4.0, 6.0, 8.0, 10.0])\n",
    "inverse_en_place(mon_tableau)\n",
    "print(mon_tableau)"
   ]
  },
  {
   "cell_type": "code",
   "execution_count": 3,
   "metadata": {},
   "outputs": [
    {
     "name": "stdout",
     "output_type": "stream",
     "text": [
      "[0.  0.8 0.4 1.  0.4 0.2]\n"
     ]
    }
   ],
   "source": [
    "def normalise_en_place(a: [float]):\n",
    "    \"\"\"\n",
    "    :e/s a: [float]\n",
    "    :pré-cond: len(a)>0\n",
    "    :post-cond: soient min et max les valeurs extrèmes du tableau,\n",
    "        remplace chaque valeur a[i] par (a[i]-min)/(max-min).\n",
    "        NB: si le tableau contient des valeurs toutes identiques,\n",
    "        on les remplace toutes par 0.\n",
    "    \"\"\"\n",
    "    min = max = a[0]\n",
    "    i = 1\n",
    "    while i<len(a):\n",
    "        if a[i] < min:\n",
    "            min = a[i]\n",
    "        else:\n",
    "            if a[i] > max:\n",
    "                max = a[i]\n",
    "        i = i+1\n",
    "    if max!=min:\n",
    "        écart = max-min\n",
    "        i = 0\n",
    "        while i<len(a):\n",
    "            a[i] = (a[i]-min)/écart\n",
    "            i = i+1\n",
    "    else:\n",
    "        i = 0\n",
    "        while i<len(a):\n",
    "            a[i] = 0\n",
    "            i = i+1\n",
    "\n",
    "# version alternative avec des boucles 'for'\n",
    "\n",
    "def normalise_en_place(a: [float]):\n",
    "    \"\"\"\n",
    "    :e/s a: [float]\n",
    "    :pré-cond: len(a)>0\n",
    "    :post-cond: soient min et max les valeurs extrèmes du tableau,\n",
    "        remplace chaque valeur a[i] par (a[i]-min)/(max-min).\n",
    "        NB: si le tableau contient des valeurs toutes identiques,\n",
    "        on les remplace toutes par 0.\n",
    "    \"\"\"\n",
    "    min = max = a[0]\n",
    "    for e in a:\n",
    "        if e < min:\n",
    "            min = e\n",
    "        else:\n",
    "            if e > max:\n",
    "                max = e\n",
    "    if max!=min:\n",
    "        écart = max-min\n",
    "        for i in range(len(a)):\n",
    "            a[i] = (a[i]-min)/écart\n",
    "    else:\n",
    "        for i in range(len(a)):\n",
    "            a[i] = 0\n",
    "\n",
    "mon_tableau = array([5.0, 9.0, 7.0, 10.0, 7.0, 6.0])\n",
    "normalise_en_place(mon_tableau)\n",
    "print(mon_tableau)"
   ]
  },
  {
   "cell_type": "code",
   "execution_count": 4,
   "metadata": {},
   "outputs": [
    {
     "data": {
      "text/plain": [
       "720"
      ]
     },
     "execution_count": 4,
     "metadata": {},
     "output_type": "execute_result"
    }
   ],
   "source": [
    "# factorielle, version itérative (boucle while)\n",
    "\n",
    "def fact(n:int) -> int:\n",
    "    \"\"\"\n",
    "    :pré-cond: n>0\n",
    "    :post-cond: retourne n! = 1x2x3x...x(n-1)xn\n",
    "    \"\"\"\n",
    "    f = 1\n",
    "    i = 2\n",
    "    while i <= n:\n",
    "        f = f*i\n",
    "        i = i+1\n",
    "    return f\n",
    "\n",
    "# factorielle, version récursive\n",
    "\n",
    "def fact(n: int) -> int:\n",
    "    \"\"\"\n",
    "    :pré-cond: n>0\n",
    "    :post-cond: retourne n! = 1x2x3x...x(n-1)xn\n",
    "    \"\"\"\n",
    "    if n == 1:\n",
    "        f = 1\n",
    "    else:\n",
    "        f = n*fact(n-1)\n",
    "    return f\n",
    "\n",
    "fact(6)"
   ]
  }
 ],
 "metadata": {
  "kernelspec": {
   "display_name": "Python 3",
   "language": "python",
   "name": "python3"
  },
  "language_info": {
   "codemirror_mode": {
    "name": "ipython",
    "version": 3
   },
   "file_extension": ".py",
   "mimetype": "text/x-python",
   "name": "python",
   "nbconvert_exporter": "python",
   "pygments_lexer": "ipython3",
   "version": "3.7.3"
  }
 },
 "nbformat": 4,
 "nbformat_minor": 2
}
