{
 "cells": [
  {
   "cell_type": "markdown",
   "metadata": {},
   "source": [
    "# Extension de l'algorithme \"puissance\"\n",
    "\n",
    "Étendons le pour autoriser p à valoir 0 (x⁰=1 ∀x≠0)"
   ]
  },
  {
   "cell_type": "code",
   "execution_count": 1,
   "metadata": {},
   "outputs": [
    {
     "name": "stdout",
     "output_type": "stream",
     "text": [
      "x= 3.5\n",
      "p= 0\n",
      "1.0\n"
     ]
    }
   ],
   "source": [
    "\"\"\"\n",
    ":entrée: float x\n",
    ":entrée: int p\n",
    ":pré-cond: p ≥ 0, et x≠0 si p=0\n",
    ":sortie: float\n",
    ":post-cond: affiche x puissance p\n",
    "\"\"\"\n",
    "x = float(input(\"x= \"))\n",
    "p = int(input(\"p= \"))\n",
    "r = 1.0  #  correction (au lieu de x)\n",
    "while p > 0:\n",
    "    r = r*x\n",
    "    p = p-1\n",
    "print(r)\n",
    "\n",
    "# rien à changer par rappot aux précédent"
   ]
  },
  {
   "cell_type": "markdown",
   "metadata": {},
   "source": [
    "Étendons le pour autoriser p à être négatif."
   ]
  },
  {
   "cell_type": "code",
   "execution_count": 2,
   "metadata": {},
   "outputs": [
    {
     "name": "stdout",
     "output_type": "stream",
     "text": [
      "x= 10\n",
      "p= -3\n",
      "0.001\n"
     ]
    }
   ],
   "source": [
    "\"\"\"\n",
    ":entrée: float x\n",
    ":entrée: int p\n",
    ":pré-cond: x≠0 si p≤0 \n",
    ":sortie: float\n",
    ":post-cond: affiche x puissance p\n",
    "\"\"\"\n",
    "x = float(input(\"x= \"))\n",
    "p = int(input(\"p= \"))\n",
    "\n",
    "r = 1.0\n",
    "if p>=0:\n",
    "    while p > 0:\n",
    "        r = r*x\n",
    "        p = p-1\n",
    "else:\n",
    "    p = -p\n",
    "    while p > 0:\n",
    "        r = r/x\n",
    "        p = p-1\n",
    "print(r)"
   ]
  },
  {
   "cell_type": "markdown",
   "metadata": {},
   "source": [
    "On peut \"factoriser\" les deux boucles, qui sont presque identiques."
   ]
  },
  {
   "cell_type": "code",
   "execution_count": 3,
   "metadata": {},
   "outputs": [
    {
     "name": "stdout",
     "output_type": "stream",
     "text": [
      "x= 10\n",
      "p= -3\n",
      "0.001\n"
     ]
    }
   ],
   "source": [
    "\"\"\"\n",
    ":entrée: float x\n",
    ":entrée: int p\n",
    ":pré-cond: x≠0 si p≤0 \n",
    ":sortie: float\n",
    ":post-cond: affiche x puissance p\n",
    "\"\"\"\n",
    "x = float(input(\"x= \"))\n",
    "p = int(input(\"p= \"))\n",
    "\n",
    "if p >= 0:\n",
    "    m = p # nombre de multiplication à faire\n",
    "else:\n",
    "    m = -p\n",
    "r = 1.0\n",
    "while m > 0:\n",
    "    r = r*x\n",
    "    m = m-1\n",
    "if p < 0:\n",
    "    r = 1/r        \n",
    "print(r)"
   ]
  },
  {
   "cell_type": "markdown",
   "metadata": {},
   "source": [
    "# Manipulation des chiffres de la représentation (en base 10) d'un entier"
   ]
  },
  {
   "cell_type": "code",
   "execution_count": 4,
   "metadata": {},
   "outputs": [
    {
     "name": "stdout",
     "output_type": "stream",
     "text": [
      "n = 2019\n",
      "4\n"
     ]
    }
   ],
   "source": [
    "\"\"\"\n",
    ":entrée n: int\n",
    ":pré-cond: n>0\n",
    ":sortie nb_chiffres: int\n",
    ":post-cond: n s'écrit en base 10 avec nb_chiffres chiffres\n",
    "\"\"\"\n",
    "n = int(input(\"n = \"))\n",
    "nb_chiffres = 0\n",
    "while n > 0:\n",
    "    n = n//10\n",
    "    nb_chiffres = nb_chiffres+1\n",
    "print(nb_chiffres)"
   ]
  },
  {
   "cell_type": "code",
   "execution_count": 6,
   "metadata": {},
   "outputs": [
    {
     "name": "stdout",
     "output_type": "stream",
     "text": [
      "n = 2019\n",
      "12\n"
     ]
    }
   ],
   "source": [
    "\"\"\"\n",
    ":entrée n: int\n",
    ":pré-cond: n>0\n",
    ":sortie somme_chiffres: int\n",
    ":post-cond: calcule la somme des chiffres de l'écriture de n (en base 10)\n",
    "\"\"\"\n",
    "n = int(input(\"n = \"))\n",
    "somme_chiffres = 0\n",
    "while n > 0:\n",
    "    somme_chiffres = somme_chiffres+n%10\n",
    "    n = n//10\n",
    "print(somme_chiffres)"
   ]
  }
 ],
 "metadata": {
  "kernelspec": {
   "display_name": "Python 3",
   "language": "python",
   "name": "python3"
  },
  "language_info": {
   "codemirror_mode": {
    "name": "ipython",
    "version": 3
   },
   "file_extension": ".py",
   "mimetype": "text/x-python",
   "name": "python",
   "nbconvert_exporter": "python",
   "pygments_lexer": "ipython3",
   "version": "3.7.3"
  }
 },
 "nbformat": 4,
 "nbformat_minor": 2
}
